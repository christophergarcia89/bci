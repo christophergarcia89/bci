{
  "nbformat": 4,
  "nbformat_minor": 0,
  "metadata": {
    "colab": {
      "name": "Hipotesis.ipynb",
      "provenance": [],
      "authorship_tag": "ABX9TyPmgfGSK7e2y5+c9H5M4Qv6",
      "include_colab_link": true
    },
    "kernelspec": {
      "name": "python3",
      "display_name": "Python 3"
    },
    "language_info": {
      "name": "python"
    }
  },
  "cells": [
    {
      "cell_type": "markdown",
      "metadata": {
        "id": "view-in-github",
        "colab_type": "text"
      },
      "source": [
        "<a href=\"https://colab.research.google.com/github/christophergarcia89/bci/blob/main/Hipotesis.ipynb\" target=\"_parent\"><img src=\"https://colab.research.google.com/assets/colab-badge.svg\" alt=\"Open In Colab\"/></a>"
      ]
    },
    {
      "cell_type": "code",
      "metadata": {
        "id": "904fvsC5KIiy"
      },
      "source": [
        "import pandas as pd\n",
        "import numpy as np\n",
        "import seaborn as sns\n",
        "import matplotlib.pyplot as plt"
      ],
      "execution_count": 4,
      "outputs": []
    },
    {
      "cell_type": "code",
      "metadata": {
        "colab": {
          "base_uri": "https://localhost:8080/"
        },
        "id": "R27UKH9TKcCG",
        "outputId": "63c33cf1-86af-4c52-ab92-43dcaaa9f5d6"
      },
      "source": [
        "#Importar libreria\n",
        "from google.colab import drive\n",
        "drive.mount(\"/content/drive\")"
      ],
      "execution_count": 8,
      "outputs": [
        {
          "output_type": "stream",
          "text": [
            "Drive already mounted at /content/drive; to attempt to forcibly remount, call drive.mount(\"/content/drive\", force_remount=True).\n"
          ],
          "name": "stdout"
        }
      ]
    },
    {
      "cell_type": "code",
      "metadata": {
        "colab": {
          "base_uri": "https://localhost:8080/"
        },
        "id": "it1-u2WCKn7Q",
        "outputId": "2db7473c-0188-4bae-e801-e71cf3c8bbc6"
      },
      "source": [
        "# Leer data\n",
        "data = pd.read_csv(\"/content/drive/MyDrive/BCI/worldcitiespop.txt\", encoding= 'unicode_escape')"
      ],
      "execution_count": 58,
      "outputs": [
        {
          "output_type": "stream",
          "text": [
            "/usr/local/lib/python3.7/dist-packages/IPython/core/interactiveshell.py:2718: DtypeWarning: Columns (3) have mixed types.Specify dtype option on import or set low_memory=False.\n",
            "  interactivity=interactivity, compiler=compiler, result=result)\n"
          ],
          "name": "stderr"
        }
      ]
    },
    {
      "cell_type": "code",
      "metadata": {
        "colab": {
          "base_uri": "https://localhost:8080/",
          "height": 206
        },
        "id": "8oTEYhrhMZMX",
        "outputId": "601cf3b8-151b-4f26-d52e-08bedc122215"
      },
      "source": [
        "#Contenido dataset\n",
        "data.head(5)"
      ],
      "execution_count": 59,
      "outputs": [
        {
          "output_type": "execute_result",
          "data": {
            "text/html": [
              "<div>\n",
              "<style scoped>\n",
              "    .dataframe tbody tr th:only-of-type {\n",
              "        vertical-align: middle;\n",
              "    }\n",
              "\n",
              "    .dataframe tbody tr th {\n",
              "        vertical-align: top;\n",
              "    }\n",
              "\n",
              "    .dataframe thead th {\n",
              "        text-align: right;\n",
              "    }\n",
              "</style>\n",
              "<table border=\"1\" class=\"dataframe\">\n",
              "  <thead>\n",
              "    <tr style=\"text-align: right;\">\n",
              "      <th></th>\n",
              "      <th>Country</th>\n",
              "      <th>City</th>\n",
              "      <th>AccentCity</th>\n",
              "      <th>Region</th>\n",
              "      <th>Population</th>\n",
              "      <th>Latitude</th>\n",
              "      <th>Longitude</th>\n",
              "    </tr>\n",
              "  </thead>\n",
              "  <tbody>\n",
              "    <tr>\n",
              "      <th>0</th>\n",
              "      <td>ad</td>\n",
              "      <td>aixas</td>\n",
              "      <td>Aixàs</td>\n",
              "      <td>6</td>\n",
              "      <td>NaN</td>\n",
              "      <td>42.483333</td>\n",
              "      <td>1.466667</td>\n",
              "    </tr>\n",
              "    <tr>\n",
              "      <th>1</th>\n",
              "      <td>ad</td>\n",
              "      <td>aixirivali</td>\n",
              "      <td>Aixirivali</td>\n",
              "      <td>6</td>\n",
              "      <td>NaN</td>\n",
              "      <td>42.466667</td>\n",
              "      <td>1.500000</td>\n",
              "    </tr>\n",
              "    <tr>\n",
              "      <th>2</th>\n",
              "      <td>ad</td>\n",
              "      <td>aixirivall</td>\n",
              "      <td>Aixirivall</td>\n",
              "      <td>6</td>\n",
              "      <td>NaN</td>\n",
              "      <td>42.466667</td>\n",
              "      <td>1.500000</td>\n",
              "    </tr>\n",
              "    <tr>\n",
              "      <th>3</th>\n",
              "      <td>ad</td>\n",
              "      <td>aixirvall</td>\n",
              "      <td>Aixirvall</td>\n",
              "      <td>6</td>\n",
              "      <td>NaN</td>\n",
              "      <td>42.466667</td>\n",
              "      <td>1.500000</td>\n",
              "    </tr>\n",
              "    <tr>\n",
              "      <th>4</th>\n",
              "      <td>ad</td>\n",
              "      <td>aixovall</td>\n",
              "      <td>Aixovall</td>\n",
              "      <td>6</td>\n",
              "      <td>NaN</td>\n",
              "      <td>42.466667</td>\n",
              "      <td>1.483333</td>\n",
              "    </tr>\n",
              "  </tbody>\n",
              "</table>\n",
              "</div>"
            ],
            "text/plain": [
              "  Country        City  AccentCity Region  Population   Latitude  Longitude\n",
              "0      ad       aixas       Aixàs      6         NaN  42.483333   1.466667\n",
              "1      ad  aixirivali  Aixirivali      6         NaN  42.466667   1.500000\n",
              "2      ad  aixirivall  Aixirivall      6         NaN  42.466667   1.500000\n",
              "3      ad   aixirvall   Aixirvall      6         NaN  42.466667   1.500000\n",
              "4      ad    aixovall    Aixovall      6         NaN  42.466667   1.483333"
            ]
          },
          "metadata": {
            "tags": []
          },
          "execution_count": 59
        }
      ]
    },
    {
      "cell_type": "code",
      "metadata": {
        "colab": {
          "base_uri": "https://localhost:8080/",
          "height": 206
        },
        "id": "CUGMkqOeMlRQ",
        "outputId": "e5a68cd8-65bf-4f15-980f-a4f597554f48"
      },
      "source": [
        "data.tail(5)"
      ],
      "execution_count": 41,
      "outputs": [
        {
          "output_type": "execute_result",
          "data": {
            "text/html": [
              "<div>\n",
              "<style scoped>\n",
              "    .dataframe tbody tr th:only-of-type {\n",
              "        vertical-align: middle;\n",
              "    }\n",
              "\n",
              "    .dataframe tbody tr th {\n",
              "        vertical-align: top;\n",
              "    }\n",
              "\n",
              "    .dataframe thead th {\n",
              "        text-align: right;\n",
              "    }\n",
              "</style>\n",
              "<table border=\"1\" class=\"dataframe\">\n",
              "  <thead>\n",
              "    <tr style=\"text-align: right;\">\n",
              "      <th></th>\n",
              "      <th>Country</th>\n",
              "      <th>City</th>\n",
              "      <th>AccentCity</th>\n",
              "      <th>Region</th>\n",
              "      <th>Population</th>\n",
              "      <th>Latitude</th>\n",
              "      <th>Longitude</th>\n",
              "    </tr>\n",
              "  </thead>\n",
              "  <tbody>\n",
              "    <tr>\n",
              "      <th>3173953</th>\n",
              "      <td>zw</td>\n",
              "      <td>zimre park</td>\n",
              "      <td>Zimre Park</td>\n",
              "      <td>4</td>\n",
              "      <td>NaN</td>\n",
              "      <td>-17.866111</td>\n",
              "      <td>31.213611</td>\n",
              "    </tr>\n",
              "    <tr>\n",
              "      <th>3173954</th>\n",
              "      <td>zw</td>\n",
              "      <td>ziyakamanas</td>\n",
              "      <td>Ziyakamanas</td>\n",
              "      <td>0</td>\n",
              "      <td>NaN</td>\n",
              "      <td>-18.216667</td>\n",
              "      <td>27.950000</td>\n",
              "    </tr>\n",
              "    <tr>\n",
              "      <th>3173955</th>\n",
              "      <td>zw</td>\n",
              "      <td>zizalisari</td>\n",
              "      <td>Zizalisari</td>\n",
              "      <td>4</td>\n",
              "      <td>NaN</td>\n",
              "      <td>-17.758889</td>\n",
              "      <td>31.010556</td>\n",
              "    </tr>\n",
              "    <tr>\n",
              "      <th>3173956</th>\n",
              "      <td>zw</td>\n",
              "      <td>zuzumba</td>\n",
              "      <td>Zuzumba</td>\n",
              "      <td>6</td>\n",
              "      <td>NaN</td>\n",
              "      <td>-20.033333</td>\n",
              "      <td>27.933333</td>\n",
              "    </tr>\n",
              "    <tr>\n",
              "      <th>3173957</th>\n",
              "      <td>zw</td>\n",
              "      <td>zvishavane</td>\n",
              "      <td>Zvishavane</td>\n",
              "      <td>7</td>\n",
              "      <td>79876.0</td>\n",
              "      <td>-20.333333</td>\n",
              "      <td>30.033333</td>\n",
              "    </tr>\n",
              "  </tbody>\n",
              "</table>\n",
              "</div>"
            ],
            "text/plain": [
              "        Country         City   AccentCity  ... Population   Latitude  Longitude\n",
              "3173953      zw   zimre park   Zimre Park  ...        NaN -17.866111  31.213611\n",
              "3173954      zw  ziyakamanas  Ziyakamanas  ...        NaN -18.216667  27.950000\n",
              "3173955      zw   zizalisari   Zizalisari  ...        NaN -17.758889  31.010556\n",
              "3173956      zw      zuzumba      Zuzumba  ...        NaN -20.033333  27.933333\n",
              "3173957      zw   zvishavane   Zvishavane  ...    79876.0 -20.333333  30.033333\n",
              "\n",
              "[5 rows x 7 columns]"
            ]
          },
          "metadata": {
            "tags": []
          },
          "execution_count": 41
        }
      ]
    },
    {
      "cell_type": "code",
      "metadata": {
        "colab": {
          "base_uri": "https://localhost:8080/"
        },
        "id": "ijR-Q0btMs4_",
        "outputId": "334b2e68-a722-43bb-a2bc-47669b7a0e5c"
      },
      "source": [
        "data.info()"
      ],
      "execution_count": 42,
      "outputs": [
        {
          "output_type": "stream",
          "text": [
            "<class 'pandas.core.frame.DataFrame'>\n",
            "RangeIndex: 3173958 entries, 0 to 3173957\n",
            "Data columns (total 7 columns):\n",
            " #   Column      Dtype  \n",
            "---  ------      -----  \n",
            " 0   Country     object \n",
            " 1   City        object \n",
            " 2   AccentCity  object \n",
            " 3   Region      object \n",
            " 4   Population  float64\n",
            " 5   Latitude    float64\n",
            " 6   Longitude   float64\n",
            "dtypes: float64(3), object(4)\n",
            "memory usage: 169.5+ MB\n"
          ],
          "name": "stdout"
        }
      ]
    },
    {
      "cell_type": "code",
      "metadata": {
        "colab": {
          "base_uri": "https://localhost:8080/",
          "height": 300
        },
        "id": "MjrtuOpgNuUH",
        "outputId": "afde780d-0f8b-4176-83ff-8a5dbf808f0c"
      },
      "source": [
        "data.describe()"
      ],
      "execution_count": 43,
      "outputs": [
        {
          "output_type": "execute_result",
          "data": {
            "text/html": [
              "<div>\n",
              "<style scoped>\n",
              "    .dataframe tbody tr th:only-of-type {\n",
              "        vertical-align: middle;\n",
              "    }\n",
              "\n",
              "    .dataframe tbody tr th {\n",
              "        vertical-align: top;\n",
              "    }\n",
              "\n",
              "    .dataframe thead th {\n",
              "        text-align: right;\n",
              "    }\n",
              "</style>\n",
              "<table border=\"1\" class=\"dataframe\">\n",
              "  <thead>\n",
              "    <tr style=\"text-align: right;\">\n",
              "      <th></th>\n",
              "      <th>Population</th>\n",
              "      <th>Latitude</th>\n",
              "      <th>Longitude</th>\n",
              "    </tr>\n",
              "  </thead>\n",
              "  <tbody>\n",
              "    <tr>\n",
              "      <th>count</th>\n",
              "      <td>4.798000e+04</td>\n",
              "      <td>3.173958e+06</td>\n",
              "      <td>3.173958e+06</td>\n",
              "    </tr>\n",
              "    <tr>\n",
              "      <th>mean</th>\n",
              "      <td>4.771957e+04</td>\n",
              "      <td>2.718817e+01</td>\n",
              "      <td>3.708886e+01</td>\n",
              "    </tr>\n",
              "    <tr>\n",
              "      <th>std</th>\n",
              "      <td>3.028887e+05</td>\n",
              "      <td>2.195262e+01</td>\n",
              "      <td>6.322302e+01</td>\n",
              "    </tr>\n",
              "    <tr>\n",
              "      <th>min</th>\n",
              "      <td>7.000000e+00</td>\n",
              "      <td>-5.493333e+01</td>\n",
              "      <td>-1.799833e+02</td>\n",
              "    </tr>\n",
              "    <tr>\n",
              "      <th>25%</th>\n",
              "      <td>3.732000e+03</td>\n",
              "      <td>1.163333e+01</td>\n",
              "      <td>7.303175e+00</td>\n",
              "    </tr>\n",
              "    <tr>\n",
              "      <th>50%</th>\n",
              "      <td>1.077900e+04</td>\n",
              "      <td>3.249722e+01</td>\n",
              "      <td>3.528000e+01</td>\n",
              "    </tr>\n",
              "    <tr>\n",
              "      <th>75%</th>\n",
              "      <td>2.799050e+04</td>\n",
              "      <td>4.371667e+01</td>\n",
              "      <td>9.570354e+01</td>\n",
              "    </tr>\n",
              "    <tr>\n",
              "      <th>max</th>\n",
              "      <td>3.148050e+07</td>\n",
              "      <td>8.248333e+01</td>\n",
              "      <td>1.800000e+02</td>\n",
              "    </tr>\n",
              "  </tbody>\n",
              "</table>\n",
              "</div>"
            ],
            "text/plain": [
              "         Population      Latitude     Longitude\n",
              "count  4.798000e+04  3.173958e+06  3.173958e+06\n",
              "mean   4.771957e+04  2.718817e+01  3.708886e+01\n",
              "std    3.028887e+05  2.195262e+01  6.322302e+01\n",
              "min    7.000000e+00 -5.493333e+01 -1.799833e+02\n",
              "25%    3.732000e+03  1.163333e+01  7.303175e+00\n",
              "50%    1.077900e+04  3.249722e+01  3.528000e+01\n",
              "75%    2.799050e+04  4.371667e+01  9.570354e+01\n",
              "max    3.148050e+07  8.248333e+01  1.800000e+02"
            ]
          },
          "metadata": {
            "tags": []
          },
          "execution_count": 43
        }
      ]
    },
    {
      "cell_type": "code",
      "metadata": {
        "colab": {
          "base_uri": "https://localhost:8080/",
          "height": 284
        },
        "id": "NpgHSsnyNJXX",
        "outputId": "2b71deb5-ea9b-47b2-b05f-f28a577779b4"
      },
      "source": [
        "# Ver datos faltantes, variable population con una gran cantidad de NAN\n",
        "sns.heatmap(data.isnull(), yticklabels=False, cbar = False, cmap = \"Blues\")"
      ],
      "execution_count": 44,
      "outputs": [
        {
          "output_type": "execute_result",
          "data": {
            "text/plain": [
              "<matplotlib.axes._subplots.AxesSubplot at 0x7f9a07795910>"
            ]
          },
          "metadata": {
            "tags": []
          },
          "execution_count": 44
        },
        {
          "output_type": "display_data",
          "data": {
            "image/png": "[encoded data removed]",
            "text/plain": [
              "<Figure size 432x288 with 1 Axes>"
            ]
          },
          "metadata": {
            "tags": [],
            "needs_background": "light"
          }
        }
      ]
    },
    {
      "cell_type": "code",
      "metadata": {
        "colab": {
          "base_uri": "https://localhost:8080/"
        },
        "id": "I14183a9VEXu",
        "outputId": "a0c61575-e700-4a69-a9e8-5378ea50ed3d"
      },
      "source": [
        "data.isna().sum()"
      ],
      "execution_count": 74,
      "outputs": [
        {
          "output_type": "execute_result",
          "data": {
            "text/plain": [
              "Country       0\n",
              "City          0\n",
              "AccentCity    0\n",
              "Region        0\n",
              "Latitude      0\n",
              "Longitude     0\n",
              "dtype: int64"
            ]
          },
          "metadata": {
            "tags": []
          },
          "execution_count": 74
        }
      ]
    },
    {
      "cell_type": "code",
      "metadata": {
        "colab": {
          "base_uri": "https://localhost:8080/",
          "height": 424
        },
        "id": "BKNLkWsaWTDb",
        "outputId": "a85e1df7-56ff-4116-a824-7146dddbdf72"
      },
      "source": [
        "data[data['Population'].isnull()]"
      ],
      "execution_count": 61,
      "outputs": [
        {
          "output_type": "execute_result",
          "data": {
            "text/html": [
              "<div>\n",
              "<style scoped>\n",
              "    .dataframe tbody tr th:only-of-type {\n",
              "        vertical-align: middle;\n",
              "    }\n",
              "\n",
              "    .dataframe tbody tr th {\n",
              "        vertical-align: top;\n",
              "    }\n",
              "\n",
              "    .dataframe thead th {\n",
              "        text-align: right;\n",
              "    }\n",
              "</style>\n",
              "<table border=\"1\" class=\"dataframe\">\n",
              "  <thead>\n",
              "    <tr style=\"text-align: right;\">\n",
              "      <th></th>\n",
              "      <th>Country</th>\n",
              "      <th>City</th>\n",
              "      <th>AccentCity</th>\n",
              "      <th>Region</th>\n",
              "      <th>Population</th>\n",
              "      <th>Latitude</th>\n",
              "      <th>Longitude</th>\n",
              "    </tr>\n",
              "  </thead>\n",
              "  <tbody>\n",
              "    <tr>\n",
              "      <th>0</th>\n",
              "      <td>ad</td>\n",
              "      <td>aixas</td>\n",
              "      <td>Aixàs</td>\n",
              "      <td>6</td>\n",
              "      <td>NaN</td>\n",
              "      <td>42.483333</td>\n",
              "      <td>1.466667</td>\n",
              "    </tr>\n",
              "    <tr>\n",
              "      <th>1</th>\n",
              "      <td>ad</td>\n",
              "      <td>aixirivali</td>\n",
              "      <td>Aixirivali</td>\n",
              "      <td>6</td>\n",
              "      <td>NaN</td>\n",
              "      <td>42.466667</td>\n",
              "      <td>1.500000</td>\n",
              "    </tr>\n",
              "    <tr>\n",
              "      <th>2</th>\n",
              "      <td>ad</td>\n",
              "      <td>aixirivall</td>\n",
              "      <td>Aixirivall</td>\n",
              "      <td>6</td>\n",
              "      <td>NaN</td>\n",
              "      <td>42.466667</td>\n",
              "      <td>1.500000</td>\n",
              "    </tr>\n",
              "    <tr>\n",
              "      <th>3</th>\n",
              "      <td>ad</td>\n",
              "      <td>aixirvall</td>\n",
              "      <td>Aixirvall</td>\n",
              "      <td>6</td>\n",
              "      <td>NaN</td>\n",
              "      <td>42.466667</td>\n",
              "      <td>1.500000</td>\n",
              "    </tr>\n",
              "    <tr>\n",
              "      <th>4</th>\n",
              "      <td>ad</td>\n",
              "      <td>aixovall</td>\n",
              "      <td>Aixovall</td>\n",
              "      <td>6</td>\n",
              "      <td>NaN</td>\n",
              "      <td>42.466667</td>\n",
              "      <td>1.483333</td>\n",
              "    </tr>\n",
              "    <tr>\n",
              "      <th>...</th>\n",
              "      <td>...</td>\n",
              "      <td>...</td>\n",
              "      <td>...</td>\n",
              "      <td>...</td>\n",
              "      <td>...</td>\n",
              "      <td>...</td>\n",
              "      <td>...</td>\n",
              "    </tr>\n",
              "    <tr>\n",
              "      <th>3173952</th>\n",
              "      <td>zw</td>\n",
              "      <td>zimbabwe</td>\n",
              "      <td>Zimbabwe</td>\n",
              "      <td>7</td>\n",
              "      <td>NaN</td>\n",
              "      <td>-20.266667</td>\n",
              "      <td>30.916667</td>\n",
              "    </tr>\n",
              "    <tr>\n",
              "      <th>3173953</th>\n",
              "      <td>zw</td>\n",
              "      <td>zimre park</td>\n",
              "      <td>Zimre Park</td>\n",
              "      <td>4</td>\n",
              "      <td>NaN</td>\n",
              "      <td>-17.866111</td>\n",
              "      <td>31.213611</td>\n",
              "    </tr>\n",
              "    <tr>\n",
              "      <th>3173954</th>\n",
              "      <td>zw</td>\n",
              "      <td>ziyakamanas</td>\n",
              "      <td>Ziyakamanas</td>\n",
              "      <td>0</td>\n",
              "      <td>NaN</td>\n",
              "      <td>-18.216667</td>\n",
              "      <td>27.950000</td>\n",
              "    </tr>\n",
              "    <tr>\n",
              "      <th>3173955</th>\n",
              "      <td>zw</td>\n",
              "      <td>zizalisari</td>\n",
              "      <td>Zizalisari</td>\n",
              "      <td>4</td>\n",
              "      <td>NaN</td>\n",
              "      <td>-17.758889</td>\n",
              "      <td>31.010556</td>\n",
              "    </tr>\n",
              "    <tr>\n",
              "      <th>3173956</th>\n",
              "      <td>zw</td>\n",
              "      <td>zuzumba</td>\n",
              "      <td>Zuzumba</td>\n",
              "      <td>6</td>\n",
              "      <td>NaN</td>\n",
              "      <td>-20.033333</td>\n",
              "      <td>27.933333</td>\n",
              "    </tr>\n",
              "  </tbody>\n",
              "</table>\n",
              "<p>3125978 rows × 7 columns</p>\n",
              "</div>"
            ],
            "text/plain": [
              "        Country         City   AccentCity  ... Population   Latitude  Longitude\n",
              "0            ad        aixas        Aixàs  ...        NaN  42.483333   1.466667\n",
              "1            ad   aixirivali   Aixirivali  ...        NaN  42.466667   1.500000\n",
              "2            ad   aixirivall   Aixirivall  ...        NaN  42.466667   1.500000\n",
              "3            ad    aixirvall    Aixirvall  ...        NaN  42.466667   1.500000\n",
              "4            ad     aixovall     Aixovall  ...        NaN  42.466667   1.483333\n",
              "...         ...          ...          ...  ...        ...        ...        ...\n",
              "3173952      zw     zimbabwe     Zimbabwe  ...        NaN -20.266667  30.916667\n",
              "3173953      zw   zimre park   Zimre Park  ...        NaN -17.866111  31.213611\n",
              "3173954      zw  ziyakamanas  Ziyakamanas  ...        NaN -18.216667  27.950000\n",
              "3173955      zw   zizalisari   Zizalisari  ...        NaN -17.758889  31.010556\n",
              "3173956      zw      zuzumba      Zuzumba  ...        NaN -20.033333  27.933333\n",
              "\n",
              "[3125978 rows x 7 columns]"
            ]
          },
          "metadata": {
            "tags": []
          },
          "execution_count": 61
        }
      ]
    },
    {
      "cell_type": "code",
      "metadata": {
        "colab": {
          "base_uri": "https://localhost:8080/",
          "height": 237
        },
        "id": "b1wcYO02WcHA",
        "outputId": "9507a999-7891-4632-badc-dc2d9d6e25ac"
      },
      "source": [
        "data[data['City'].isnull()]"
      ],
      "execution_count": 68,
      "outputs": [
        {
          "output_type": "execute_result",
          "data": {
            "text/html": [
              "<div>\n",
              "<style scoped>\n",
              "    .dataframe tbody tr th:only-of-type {\n",
              "        vertical-align: middle;\n",
              "    }\n",
              "\n",
              "    .dataframe tbody tr th {\n",
              "        vertical-align: top;\n",
              "    }\n",
              "\n",
              "    .dataframe thead th {\n",
              "        text-align: right;\n",
              "    }\n",
              "</style>\n",
              "<table border=\"1\" class=\"dataframe\">\n",
              "  <thead>\n",
              "    <tr style=\"text-align: right;\">\n",
              "      <th></th>\n",
              "      <th>Country</th>\n",
              "      <th>City</th>\n",
              "      <th>AccentCity</th>\n",
              "      <th>Region</th>\n",
              "      <th>Latitude</th>\n",
              "      <th>Longitude</th>\n",
              "    </tr>\n",
              "  </thead>\n",
              "  <tbody>\n",
              "    <tr>\n",
              "      <th>98581</th>\n",
              "      <td>al</td>\n",
              "      <td>NaN</td>\n",
              "      <td>Nan</td>\n",
              "      <td>47</td>\n",
              "      <td>42.011667</td>\n",
              "      <td>20.416389</td>\n",
              "    </tr>\n",
              "    <tr>\n",
              "      <th>545196</th>\n",
              "      <td>cn</td>\n",
              "      <td>NaN</td>\n",
              "      <td>Nan</td>\n",
              "      <td>11</td>\n",
              "      <td>29.359551</td>\n",
              "      <td>112.402433</td>\n",
              "    </tr>\n",
              "    <tr>\n",
              "      <th>959881</th>\n",
              "      <td>fr</td>\n",
              "      <td>NaN</td>\n",
              "      <td>Nan</td>\n",
              "      <td>A1</td>\n",
              "      <td>47.374053</td>\n",
              "      <td>4.358566</td>\n",
              "    </tr>\n",
              "    <tr>\n",
              "      <th>1348414</th>\n",
              "      <td>in</td>\n",
              "      <td>NaN</td>\n",
              "      <td>Nan</td>\n",
              "      <td>12</td>\n",
              "      <td>32.994444</td>\n",
              "      <td>74.347222</td>\n",
              "    </tr>\n",
              "    <tr>\n",
              "      <th>2133528</th>\n",
              "      <td>ph</td>\n",
              "      <td>NaN</td>\n",
              "      <td>Nan</td>\n",
              "      <td>H2</td>\n",
              "      <td>13.912500</td>\n",
              "      <td>122.172600</td>\n",
              "    </tr>\n",
              "    <tr>\n",
              "      <th>2753400</th>\n",
              "      <td>th</td>\n",
              "      <td>NaN</td>\n",
              "      <td>Nan</td>\n",
              "      <td>4</td>\n",
              "      <td>18.792917</td>\n",
              "      <td>100.729722</td>\n",
              "    </tr>\n",
              "  </tbody>\n",
              "</table>\n",
              "</div>"
            ],
            "text/plain": [
              "        Country City AccentCity Region   Latitude   Longitude\n",
              "98581        al  NaN        Nan     47  42.011667   20.416389\n",
              "545196       cn  NaN        Nan     11  29.359551  112.402433\n",
              "959881       fr  NaN        Nan     A1  47.374053    4.358566\n",
              "1348414      in  NaN        Nan     12  32.994444   74.347222\n",
              "2133528      ph  NaN        Nan     H2  13.912500  122.172600\n",
              "2753400      th  NaN        Nan      4  18.792917  100.729722"
            ]
          },
          "metadata": {
            "tags": []
          },
          "execution_count": 68
        }
      ]
    },
    {
      "cell_type": "code",
      "metadata": {
        "colab": {
          "base_uri": "https://localhost:8080/",
          "height": 300
        },
        "id": "Ac-iHWmLWn-k",
        "outputId": "712fbc29-21f1-4419-9466-8980b928d295"
      },
      "source": [
        "data[data['Region'].isnull()]"
      ],
      "execution_count": 69,
      "outputs": [
        {
          "output_type": "execute_result",
          "data": {
            "text/html": [
              "<div>\n",
              "<style scoped>\n",
              "    .dataframe tbody tr th:only-of-type {\n",
              "        vertical-align: middle;\n",
              "    }\n",
              "\n",
              "    .dataframe tbody tr th {\n",
              "        vertical-align: top;\n",
              "    }\n",
              "\n",
              "    .dataframe thead th {\n",
              "        text-align: right;\n",
              "    }\n",
              "</style>\n",
              "<table border=\"1\" class=\"dataframe\">\n",
              "  <thead>\n",
              "    <tr style=\"text-align: right;\">\n",
              "      <th></th>\n",
              "      <th>Country</th>\n",
              "      <th>City</th>\n",
              "      <th>AccentCity</th>\n",
              "      <th>Region</th>\n",
              "      <th>Latitude</th>\n",
              "      <th>Longitude</th>\n",
              "    </tr>\n",
              "  </thead>\n",
              "  <tbody>\n",
              "    <tr>\n",
              "      <th>55166</th>\n",
              "      <td>af</td>\n",
              "      <td>nazand</td>\n",
              "      <td>Nazand</td>\n",
              "      <td>NaN</td>\n",
              "      <td>32.400278</td>\n",
              "      <td>69.254722</td>\n",
              "    </tr>\n",
              "    <tr>\n",
              "      <th>79529</th>\n",
              "      <td>af</td>\n",
              "      <td>soripai narai</td>\n",
              "      <td>Soripai Narai</td>\n",
              "      <td>NaN</td>\n",
              "      <td>33.044444</td>\n",
              "      <td>69.516667</td>\n",
              "    </tr>\n",
              "    <tr>\n",
              "      <th>1318396</th>\n",
              "      <td>il</td>\n",
              "      <td>bayt safafa</td>\n",
              "      <td>Bayt Safafa</td>\n",
              "      <td>NaN</td>\n",
              "      <td>31.742667</td>\n",
              "      <td>35.203036</td>\n",
              "    </tr>\n",
              "    <tr>\n",
              "      <th>1318491</th>\n",
              "      <td>il</td>\n",
              "      <td>beit safafa</td>\n",
              "      <td>Beit Safafa</td>\n",
              "      <td>NaN</td>\n",
              "      <td>31.742667</td>\n",
              "      <td>35.203036</td>\n",
              "    </tr>\n",
              "    <tr>\n",
              "      <th>2220223</th>\n",
              "      <td>pk</td>\n",
              "      <td>nazand</td>\n",
              "      <td>Nazand</td>\n",
              "      <td>NaN</td>\n",
              "      <td>32.400278</td>\n",
              "      <td>69.254722</td>\n",
              "    </tr>\n",
              "    <tr>\n",
              "      <th>2235464</th>\n",
              "      <td>pk</td>\n",
              "      <td>soripai narai</td>\n",
              "      <td>Soripai Narai</td>\n",
              "      <td>NaN</td>\n",
              "      <td>33.044444</td>\n",
              "      <td>69.516667</td>\n",
              "    </tr>\n",
              "    <tr>\n",
              "      <th>2588960</th>\n",
              "      <td>sd</td>\n",
              "      <td>kajra</td>\n",
              "      <td>Kajra</td>\n",
              "      <td>NaN</td>\n",
              "      <td>17.251944</td>\n",
              "      <td>34.488056</td>\n",
              "    </tr>\n",
              "    <tr>\n",
              "      <th>2651070</th>\n",
              "      <td>sn</td>\n",
              "      <td>taba treich</td>\n",
              "      <td>Taba Treich</td>\n",
              "      <td>NaN</td>\n",
              "      <td>16.158611</td>\n",
              "      <td>-16.382500</td>\n",
              "    </tr>\n",
              "  </tbody>\n",
              "</table>\n",
              "</div>"
            ],
            "text/plain": [
              "        Country           City     AccentCity Region   Latitude  Longitude\n",
              "55166        af         nazand         Nazand    NaN  32.400278  69.254722\n",
              "79529        af  soripai narai  Soripai Narai    NaN  33.044444  69.516667\n",
              "1318396      il    bayt safafa    Bayt Safafa    NaN  31.742667  35.203036\n",
              "1318491      il    beit safafa    Beit Safafa    NaN  31.742667  35.203036\n",
              "2220223      pk         nazand         Nazand    NaN  32.400278  69.254722\n",
              "2235464      pk  soripai narai  Soripai Narai    NaN  33.044444  69.516667\n",
              "2588960      sd          kajra          Kajra    NaN  17.251944  34.488056\n",
              "2651070      sn    taba treich    Taba Treich    NaN  16.158611 -16.382500"
            ]
          },
          "metadata": {
            "tags": []
          },
          "execution_count": 69
        }
      ]
    },
    {
      "cell_type": "code",
      "metadata": {
        "id": "qs826f38OYGP"
      },
      "source": [
        "#Al haber gran cantidad de NAN para la variable Population (Superior al 98%) no tiene sentido analizar y las filas NAN de Region (), City () se eliminan igualmente\n",
        "#Elimando columna Population\n",
        "data.drop([\"Population\"], axis = 1, inplace = True)"
      ],
      "execution_count": 63,
      "outputs": []
    },
    {
      "cell_type": "code",
      "metadata": {
        "id": "s3ejRx8PXyr9"
      },
      "source": [
        "#Elimando filas Region y City con NAN, ya que no alterarian el análisis final\n",
        "data.drop(data[data.Region.isnull()].index, inplace = True)\n",
        "data.drop(data[data.City.isnull()].index, inplace = True)"
      ],
      "execution_count": 73,
      "outputs": []
    },
    {
      "cell_type": "code",
      "metadata": {
        "colab": {
          "base_uri": "https://localhost:8080/",
          "height": 424
        },
        "id": "kSObOBUVZmNF",
        "outputId": "3831c60f-fd88-413b-d327-b3b277f7fe47"
      },
      "source": [
        "data"
      ],
      "execution_count": 67,
      "outputs": [
        {
          "output_type": "execute_result",
          "data": {
            "text/html": [
              "<div>\n",
              "<style scoped>\n",
              "    .dataframe tbody tr th:only-of-type {\n",
              "        vertical-align: middle;\n",
              "    }\n",
              "\n",
              "    .dataframe tbody tr th {\n",
              "        vertical-align: top;\n",
              "    }\n",
              "\n",
              "    .dataframe thead th {\n",
              "        text-align: right;\n",
              "    }\n",
              "</style>\n",
              "<table border=\"1\" class=\"dataframe\">\n",
              "  <thead>\n",
              "    <tr style=\"text-align: right;\">\n",
              "      <th></th>\n",
              "      <th>Country</th>\n",
              "      <th>City</th>\n",
              "      <th>AccentCity</th>\n",
              "      <th>Region</th>\n",
              "      <th>Latitude</th>\n",
              "      <th>Longitude</th>\n",
              "    </tr>\n",
              "  </thead>\n",
              "  <tbody>\n",
              "    <tr>\n",
              "      <th>0</th>\n",
              "      <td>ad</td>\n",
              "      <td>aixas</td>\n",
              "      <td>Aixàs</td>\n",
              "      <td>6</td>\n",
              "      <td>42.483333</td>\n",
              "      <td>1.466667</td>\n",
              "    </tr>\n",
              "    <tr>\n",
              "      <th>1</th>\n",
              "      <td>ad</td>\n",
              "      <td>aixirivali</td>\n",
              "      <td>Aixirivali</td>\n",
              "      <td>6</td>\n",
              "      <td>42.466667</td>\n",
              "      <td>1.500000</td>\n",
              "    </tr>\n",
              "    <tr>\n",
              "      <th>2</th>\n",
              "      <td>ad</td>\n",
              "      <td>aixirivall</td>\n",
              "      <td>Aixirivall</td>\n",
              "      <td>6</td>\n",
              "      <td>42.466667</td>\n",
              "      <td>1.500000</td>\n",
              "    </tr>\n",
              "    <tr>\n",
              "      <th>3</th>\n",
              "      <td>ad</td>\n",
              "      <td>aixirvall</td>\n",
              "      <td>Aixirvall</td>\n",
              "      <td>6</td>\n",
              "      <td>42.466667</td>\n",
              "      <td>1.500000</td>\n",
              "    </tr>\n",
              "    <tr>\n",
              "      <th>4</th>\n",
              "      <td>ad</td>\n",
              "      <td>aixovall</td>\n",
              "      <td>Aixovall</td>\n",
              "      <td>6</td>\n",
              "      <td>42.466667</td>\n",
              "      <td>1.483333</td>\n",
              "    </tr>\n",
              "    <tr>\n",
              "      <th>...</th>\n",
              "      <td>...</td>\n",
              "      <td>...</td>\n",
              "      <td>...</td>\n",
              "      <td>...</td>\n",
              "      <td>...</td>\n",
              "      <td>...</td>\n",
              "    </tr>\n",
              "    <tr>\n",
              "      <th>3173953</th>\n",
              "      <td>zw</td>\n",
              "      <td>zimre park</td>\n",
              "      <td>Zimre Park</td>\n",
              "      <td>4</td>\n",
              "      <td>-17.866111</td>\n",
              "      <td>31.213611</td>\n",
              "    </tr>\n",
              "    <tr>\n",
              "      <th>3173954</th>\n",
              "      <td>zw</td>\n",
              "      <td>ziyakamanas</td>\n",
              "      <td>Ziyakamanas</td>\n",
              "      <td>0</td>\n",
              "      <td>-18.216667</td>\n",
              "      <td>27.950000</td>\n",
              "    </tr>\n",
              "    <tr>\n",
              "      <th>3173955</th>\n",
              "      <td>zw</td>\n",
              "      <td>zizalisari</td>\n",
              "      <td>Zizalisari</td>\n",
              "      <td>4</td>\n",
              "      <td>-17.758889</td>\n",
              "      <td>31.010556</td>\n",
              "    </tr>\n",
              "    <tr>\n",
              "      <th>3173956</th>\n",
              "      <td>zw</td>\n",
              "      <td>zuzumba</td>\n",
              "      <td>Zuzumba</td>\n",
              "      <td>6</td>\n",
              "      <td>-20.033333</td>\n",
              "      <td>27.933333</td>\n",
              "    </tr>\n",
              "    <tr>\n",
              "      <th>3173957</th>\n",
              "      <td>zw</td>\n",
              "      <td>zvishavane</td>\n",
              "      <td>Zvishavane</td>\n",
              "      <td>7</td>\n",
              "      <td>-20.333333</td>\n",
              "      <td>30.033333</td>\n",
              "    </tr>\n",
              "  </tbody>\n",
              "</table>\n",
              "<p>3173958 rows × 6 columns</p>\n",
              "</div>"
            ],
            "text/plain": [
              "        Country         City   AccentCity Region   Latitude  Longitude\n",
              "0            ad        aixas        Aixàs      6  42.483333   1.466667\n",
              "1            ad   aixirivali   Aixirivali      6  42.466667   1.500000\n",
              "2            ad   aixirivall   Aixirivall      6  42.466667   1.500000\n",
              "3            ad    aixirvall    Aixirvall      6  42.466667   1.500000\n",
              "4            ad     aixovall     Aixovall      6  42.466667   1.483333\n",
              "...         ...          ...          ...    ...        ...        ...\n",
              "3173953      zw   zimre park   Zimre Park      4 -17.866111  31.213611\n",
              "3173954      zw  ziyakamanas  Ziyakamanas      0 -18.216667  27.950000\n",
              "3173955      zw   zizalisari   Zizalisari      4 -17.758889  31.010556\n",
              "3173956      zw      zuzumba      Zuzumba      6 -20.033333  27.933333\n",
              "3173957      zw   zvishavane   Zvishavane      7 -20.333333  30.033333\n",
              "\n",
              "[3173958 rows x 6 columns]"
            ]
          },
          "metadata": {
            "tags": []
          },
          "execution_count": 67
        }
      ]
    }
  ]
}