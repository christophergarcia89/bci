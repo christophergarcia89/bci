{
  "nbformat": 4,
  "nbformat_minor": 0,
  "metadata": {
    "colab": {
      "name": "Hipotesis.ipynb",
      "provenance": [],
      "authorship_tag": "ABX9TyObmByPLsLa3+dFelvzmV3N",
      "include_colab_link": true
    },
    "kernelspec": {
      "name": "python3",
      "display_name": "Python 3"
    },
    "language_info": {
      "name": "python"
    }
  },
  "cells": [
    {
      "cell_type": "markdown",
      "metadata": {
        "id": "view-in-github",
        "colab_type": "text"
      },
      "source": [
        "<a href=\"https://colab.research.google.com/github/christophergarcia89/bci/blob/main/Hipotesis.ipynb\" target=\"_parent\"><img src=\"https://colab.research.google.com/assets/colab-badge.svg\" alt=\"Open In Colab\"/></a>"
      ]
    },
    {
      "cell_type": "code",
      "metadata": {
        "id": "904fvsC5KIiy"
      },
      "source": [
        "import pandas as pd\n",
        "import numpy as np\n",
        "import seaborn as sns\n",
        "import matplotlib.pyplot as plt"
      ],
      "execution_count": 1,
      "outputs": []
    },
    {
      "cell_type": "code",
      "metadata": {
        "colab": {
          "base_uri": "https://localhost:8080/"
        },
        "id": "R27UKH9TKcCG",
        "outputId": "33c1cc0d-8525-4ee3-eb11-6c4701dc5d77"
      },
      "source": [
        "#Importar libreria para leer dataset desde drive\n",
        "from google.colab import drive\n",
        "drive.mount(\"/content/drive\")"
      ],
      "execution_count": 2,
      "outputs": [
        {
          "output_type": "stream",
          "text": [
            "Mounted at /content/drive\n"
          ],
          "name": "stdout"
        }
      ]
    },
    {
      "cell_type": "code",
      "metadata": {
        "colab": {
          "base_uri": "https://localhost:8080/"
        },
        "id": "it1-u2WCKn7Q",
        "outputId": "d8ea537c-bf7d-4149-a7e7-e2e6c424c2c1"
      },
      "source": [
        "# Leer data\n",
        "data = pd.read_csv(\"/content/drive/MyDrive/BCI/worldcitiespop.txt\", encoding= 'unicode_escape')"
      ],
      "execution_count": 3,
      "outputs": [
        {
          "output_type": "stream",
          "text": [
            "/usr/local/lib/python3.7/dist-packages/IPython/core/interactiveshell.py:2718: DtypeWarning: Columns (3) have mixed types.Specify dtype option on import or set low_memory=False.\n",
            "  interactivity=interactivity, compiler=compiler, result=result)\n"
          ],
          "name": "stderr"
        }
      ]
    },
    {
      "cell_type": "code",
      "metadata": {
        "colab": {
          "base_uri": "https://localhost:8080/",
          "height": 206
        },
        "id": "8oTEYhrhMZMX",
        "outputId": "129ba4a8-d85d-4e78-9efb-d54419060e43"
      },
      "source": [
        "#Contenido dataset\n",
        "data.head(5)"
      ],
      "execution_count": 13,
      "outputs": [
        {
          "output_type": "execute_result",
          "data": {
            "text/html": [
              "<div>\n",
              "<style scoped>\n",
              "    .dataframe tbody tr th:only-of-type {\n",
              "        vertical-align: middle;\n",
              "    }\n",
              "\n",
              "    .dataframe tbody tr th {\n",
              "        vertical-align: top;\n",
              "    }\n",
              "\n",
              "    .dataframe thead th {\n",
              "        text-align: right;\n",
              "    }\n",
              "</style>\n",
              "<table border=\"1\" class=\"dataframe\">\n",
              "  <thead>\n",
              "    <tr style=\"text-align: right;\">\n",
              "      <th></th>\n",
              "      <th>Country</th>\n",
              "      <th>City</th>\n",
              "      <th>AccentCity</th>\n",
              "      <th>Region</th>\n",
              "      <th>Population</th>\n",
              "      <th>Latitude</th>\n",
              "      <th>Longitude</th>\n",
              "    </tr>\n",
              "  </thead>\n",
              "  <tbody>\n",
              "    <tr>\n",
              "      <th>0</th>\n",
              "      <td>ad</td>\n",
              "      <td>aixas</td>\n",
              "      <td>Aixàs</td>\n",
              "      <td>6</td>\n",
              "      <td>NaN</td>\n",
              "      <td>42.483333</td>\n",
              "      <td>1.466667</td>\n",
              "    </tr>\n",
              "    <tr>\n",
              "      <th>1</th>\n",
              "      <td>ad</td>\n",
              "      <td>aixirivali</td>\n",
              "      <td>Aixirivali</td>\n",
              "      <td>6</td>\n",
              "      <td>NaN</td>\n",
              "      <td>42.466667</td>\n",
              "      <td>1.500000</td>\n",
              "    </tr>\n",
              "    <tr>\n",
              "      <th>2</th>\n",
              "      <td>ad</td>\n",
              "      <td>aixirivall</td>\n",
              "      <td>Aixirivall</td>\n",
              "      <td>6</td>\n",
              "      <td>NaN</td>\n",
              "      <td>42.466667</td>\n",
              "      <td>1.500000</td>\n",
              "    </tr>\n",
              "    <tr>\n",
              "      <th>3</th>\n",
              "      <td>ad</td>\n",
              "      <td>aixirvall</td>\n",
              "      <td>Aixirvall</td>\n",
              "      <td>6</td>\n",
              "      <td>NaN</td>\n",
              "      <td>42.466667</td>\n",
              "      <td>1.500000</td>\n",
              "    </tr>\n",
              "    <tr>\n",
              "      <th>4</th>\n",
              "      <td>ad</td>\n",
              "      <td>aixovall</td>\n",
              "      <td>Aixovall</td>\n",
              "      <td>6</td>\n",
              "      <td>NaN</td>\n",
              "      <td>42.466667</td>\n",
              "      <td>1.483333</td>\n",
              "    </tr>\n",
              "  </tbody>\n",
              "</table>\n",
              "</div>"
            ],
            "text/plain": [
              "  Country        City  AccentCity Region  Population   Latitude  Longitude\n",
              "0      ad       aixas       Aixàs      6         NaN  42.483333   1.466667\n",
              "1      ad  aixirivali  Aixirivali      6         NaN  42.466667   1.500000\n",
              "2      ad  aixirivall  Aixirivall      6         NaN  42.466667   1.500000\n",
              "3      ad   aixirvall   Aixirvall      6         NaN  42.466667   1.500000\n",
              "4      ad    aixovall    Aixovall      6         NaN  42.466667   1.483333"
            ]
          },
          "metadata": {
            "tags": []
          },
          "execution_count": 13
        }
      ]
    },
    {
      "cell_type": "code",
      "metadata": {
        "colab": {
          "base_uri": "https://localhost:8080/",
          "height": 206
        },
        "id": "CUGMkqOeMlRQ",
        "outputId": "cf2f7133-e0e6-458b-dafe-2ed5ce3ea4f8"
      },
      "source": [
        "data.tail(5)"
      ],
      "execution_count": 14,
      "outputs": [
        {
          "output_type": "execute_result",
          "data": {
            "text/html": [
              "<div>\n",
              "<style scoped>\n",
              "    .dataframe tbody tr th:only-of-type {\n",
              "        vertical-align: middle;\n",
              "    }\n",
              "\n",
              "    .dataframe tbody tr th {\n",
              "        vertical-align: top;\n",
              "    }\n",
              "\n",
              "    .dataframe thead th {\n",
              "        text-align: right;\n",
              "    }\n",
              "</style>\n",
              "<table border=\"1\" class=\"dataframe\">\n",
              "  <thead>\n",
              "    <tr style=\"text-align: right;\">\n",
              "      <th></th>\n",
              "      <th>Country</th>\n",
              "      <th>City</th>\n",
              "      <th>AccentCity</th>\n",
              "      <th>Region</th>\n",
              "      <th>Population</th>\n",
              "      <th>Latitude</th>\n",
              "      <th>Longitude</th>\n",
              "    </tr>\n",
              "  </thead>\n",
              "  <tbody>\n",
              "    <tr>\n",
              "      <th>3173953</th>\n",
              "      <td>zw</td>\n",
              "      <td>zimre park</td>\n",
              "      <td>Zimre Park</td>\n",
              "      <td>4</td>\n",
              "      <td>NaN</td>\n",
              "      <td>-17.866111</td>\n",
              "      <td>31.213611</td>\n",
              "    </tr>\n",
              "    <tr>\n",
              "      <th>3173954</th>\n",
              "      <td>zw</td>\n",
              "      <td>ziyakamanas</td>\n",
              "      <td>Ziyakamanas</td>\n",
              "      <td>0</td>\n",
              "      <td>NaN</td>\n",
              "      <td>-18.216667</td>\n",
              "      <td>27.950000</td>\n",
              "    </tr>\n",
              "    <tr>\n",
              "      <th>3173955</th>\n",
              "      <td>zw</td>\n",
              "      <td>zizalisari</td>\n",
              "      <td>Zizalisari</td>\n",
              "      <td>4</td>\n",
              "      <td>NaN</td>\n",
              "      <td>-17.758889</td>\n",
              "      <td>31.010556</td>\n",
              "    </tr>\n",
              "    <tr>\n",
              "      <th>3173956</th>\n",
              "      <td>zw</td>\n",
              "      <td>zuzumba</td>\n",
              "      <td>Zuzumba</td>\n",
              "      <td>6</td>\n",
              "      <td>NaN</td>\n",
              "      <td>-20.033333</td>\n",
              "      <td>27.933333</td>\n",
              "    </tr>\n",
              "    <tr>\n",
              "      <th>3173957</th>\n",
              "      <td>zw</td>\n",
              "      <td>zvishavane</td>\n",
              "      <td>Zvishavane</td>\n",
              "      <td>7</td>\n",
              "      <td>79876.0</td>\n",
              "      <td>-20.333333</td>\n",
              "      <td>30.033333</td>\n",
              "    </tr>\n",
              "  </tbody>\n",
              "</table>\n",
              "</div>"
            ],
            "text/plain": [
              "        Country         City   AccentCity  ... Population   Latitude  Longitude\n",
              "3173953      zw   zimre park   Zimre Park  ...        NaN -17.866111  31.213611\n",
              "3173954      zw  ziyakamanas  Ziyakamanas  ...        NaN -18.216667  27.950000\n",
              "3173955      zw   zizalisari   Zizalisari  ...        NaN -17.758889  31.010556\n",
              "3173956      zw      zuzumba      Zuzumba  ...        NaN -20.033333  27.933333\n",
              "3173957      zw   zvishavane   Zvishavane  ...    79876.0 -20.333333  30.033333\n",
              "\n",
              "[5 rows x 7 columns]"
            ]
          },
          "metadata": {
            "tags": []
          },
          "execution_count": 14
        }
      ]
    },
    {
      "cell_type": "code",
      "metadata": {
        "colab": {
          "base_uri": "https://localhost:8080/"
        },
        "id": "ijR-Q0btMs4_",
        "outputId": "fb72d3c8-2d83-4cd9-b154-45980aa6284d"
      },
      "source": [
        "#Tipo de variables\n",
        "data.info()"
      ],
      "execution_count": 15,
      "outputs": [
        {
          "output_type": "stream",
          "text": [
            "<class 'pandas.core.frame.DataFrame'>\n",
            "RangeIndex: 3173958 entries, 0 to 3173957\n",
            "Data columns (total 7 columns):\n",
            " #   Column      Dtype  \n",
            "---  ------      -----  \n",
            " 0   Country     object \n",
            " 1   City        object \n",
            " 2   AccentCity  object \n",
            " 3   Region      object \n",
            " 4   Population  float64\n",
            " 5   Latitude    float64\n",
            " 6   Longitude   float64\n",
            "dtypes: float64(3), object(4)\n",
            "memory usage: 169.5+ MB\n"
          ],
          "name": "stdout"
        }
      ]
    },
    {
      "cell_type": "code",
      "metadata": {
        "colab": {
          "base_uri": "https://localhost:8080/",
          "height": 284
        },
        "id": "NpgHSsnyNJXX",
        "outputId": "26e89933-bad0-4184-9024-ff6ba11fde58"
      },
      "source": [
        "# Ver datos faltantes, variable population con una gran cantidad de NAN\n",
        "sns.heatmap(data.isnull(), yticklabels=False, cbar = False, cmap = \"Blues\")"
      ],
      "execution_count": 7,
      "outputs": [
        {
          "output_type": "execute_result",
          "data": {
            "text/plain": [
              "<matplotlib.axes._subplots.AxesSubplot at 0x7f34630fe910>"
            ]
          },
          "metadata": {
            "tags": []
          },
          "execution_count": 7
        },
        {
          "output_type": "display_data",
          "data": {
            "image/png": "[encoded data removed]",
            "text/plain": [
              "<Figure size 432x288 with 1 Axes>"
            ]
          },
          "metadata": {
            "tags": [],
            "needs_background": "light"
          }
        }
      ]
    },
    {
      "cell_type": "code",
      "metadata": {
        "colab": {
          "base_uri": "https://localhost:8080/"
        },
        "id": "I14183a9VEXu",
        "outputId": "f9be52d5-d7be-4b6e-d353-e3517c53ab15"
      },
      "source": [
        "data.isna().sum()"
      ],
      "execution_count": 8,
      "outputs": [
        {
          "output_type": "execute_result",
          "data": {
            "text/plain": [
              "Country             0\n",
              "City                6\n",
              "AccentCity          0\n",
              "Region              8\n",
              "Population    3125978\n",
              "Latitude            0\n",
              "Longitude           0\n",
              "dtype: int64"
            ]
          },
          "metadata": {
            "tags": []
          },
          "execution_count": 8
        }
      ]
    },
    {
      "cell_type": "code",
      "metadata": {
        "colab": {
          "base_uri": "https://localhost:8080/",
          "height": 424
        },
        "id": "BKNLkWsaWTDb",
        "outputId": "07b5f51c-0190-409e-a2f6-5b90377c375a"
      },
      "source": [
        "#Validar data faltante de Population\n",
        "data[data['Population'].isnull()]"
      ],
      "execution_count": 9,
      "outputs": [
        {
          "output_type": "execute_result",
          "data": {
            "text/html": [
              "<div>\n",
              "<style scoped>\n",
              "    .dataframe tbody tr th:only-of-type {\n",
              "        vertical-align: middle;\n",
              "    }\n",
              "\n",
              "    .dataframe tbody tr th {\n",
              "        vertical-align: top;\n",
              "    }\n",
              "\n",
              "    .dataframe thead th {\n",
              "        text-align: right;\n",
              "    }\n",
              "</style>\n",
              "<table border=\"1\" class=\"dataframe\">\n",
              "  <thead>\n",
              "    <tr style=\"text-align: right;\">\n",
              "      <th></th>\n",
              "      <th>Country</th>\n",
              "      <th>City</th>\n",
              "      <th>AccentCity</th>\n",
              "      <th>Region</th>\n",
              "      <th>Population</th>\n",
              "      <th>Latitude</th>\n",
              "      <th>Longitude</th>\n",
              "    </tr>\n",
              "  </thead>\n",
              "  <tbody>\n",
              "    <tr>\n",
              "      <th>0</th>\n",
              "      <td>ad</td>\n",
              "      <td>aixas</td>\n",
              "      <td>Aixàs</td>\n",
              "      <td>6</td>\n",
              "      <td>NaN</td>\n",
              "      <td>42.483333</td>\n",
              "      <td>1.466667</td>\n",
              "    </tr>\n",
              "    <tr>\n",
              "      <th>1</th>\n",
              "      <td>ad</td>\n",
              "      <td>aixirivali</td>\n",
              "      <td>Aixirivali</td>\n",
              "      <td>6</td>\n",
              "      <td>NaN</td>\n",
              "      <td>42.466667</td>\n",
              "      <td>1.500000</td>\n",
              "    </tr>\n",
              "    <tr>\n",
              "      <th>2</th>\n",
              "      <td>ad</td>\n",
              "      <td>aixirivall</td>\n",
              "      <td>Aixirivall</td>\n",
              "      <td>6</td>\n",
              "      <td>NaN</td>\n",
              "      <td>42.466667</td>\n",
              "      <td>1.500000</td>\n",
              "    </tr>\n",
              "    <tr>\n",
              "      <th>3</th>\n",
              "      <td>ad</td>\n",
              "      <td>aixirvall</td>\n",
              "      <td>Aixirvall</td>\n",
              "      <td>6</td>\n",
              "      <td>NaN</td>\n",
              "      <td>42.466667</td>\n",
              "      <td>1.500000</td>\n",
              "    </tr>\n",
              "    <tr>\n",
              "      <th>4</th>\n",
              "      <td>ad</td>\n",
              "      <td>aixovall</td>\n",
              "      <td>Aixovall</td>\n",
              "      <td>6</td>\n",
              "      <td>NaN</td>\n",
              "      <td>42.466667</td>\n",
              "      <td>1.483333</td>\n",
              "    </tr>\n",
              "    <tr>\n",
              "      <th>...</th>\n",
              "      <td>...</td>\n",
              "      <td>...</td>\n",
              "      <td>...</td>\n",
              "      <td>...</td>\n",
              "      <td>...</td>\n",
              "      <td>...</td>\n",
              "      <td>...</td>\n",
              "    </tr>\n",
              "    <tr>\n",
              "      <th>3173952</th>\n",
              "      <td>zw</td>\n",
              "      <td>zimbabwe</td>\n",
              "      <td>Zimbabwe</td>\n",
              "      <td>7</td>\n",
              "      <td>NaN</td>\n",
              "      <td>-20.266667</td>\n",
              "      <td>30.916667</td>\n",
              "    </tr>\n",
              "    <tr>\n",
              "      <th>3173953</th>\n",
              "      <td>zw</td>\n",
              "      <td>zimre park</td>\n",
              "      <td>Zimre Park</td>\n",
              "      <td>4</td>\n",
              "      <td>NaN</td>\n",
              "      <td>-17.866111</td>\n",
              "      <td>31.213611</td>\n",
              "    </tr>\n",
              "    <tr>\n",
              "      <th>3173954</th>\n",
              "      <td>zw</td>\n",
              "      <td>ziyakamanas</td>\n",
              "      <td>Ziyakamanas</td>\n",
              "      <td>0</td>\n",
              "      <td>NaN</td>\n",
              "      <td>-18.216667</td>\n",
              "      <td>27.950000</td>\n",
              "    </tr>\n",
              "    <tr>\n",
              "      <th>3173955</th>\n",
              "      <td>zw</td>\n",
              "      <td>zizalisari</td>\n",
              "      <td>Zizalisari</td>\n",
              "      <td>4</td>\n",
              "      <td>NaN</td>\n",
              "      <td>-17.758889</td>\n",
              "      <td>31.010556</td>\n",
              "    </tr>\n",
              "    <tr>\n",
              "      <th>3173956</th>\n",
              "      <td>zw</td>\n",
              "      <td>zuzumba</td>\n",
              "      <td>Zuzumba</td>\n",
              "      <td>6</td>\n",
              "      <td>NaN</td>\n",
              "      <td>-20.033333</td>\n",
              "      <td>27.933333</td>\n",
              "    </tr>\n",
              "  </tbody>\n",
              "</table>\n",
              "<p>3125978 rows × 7 columns</p>\n",
              "</div>"
            ],
            "text/plain": [
              "        Country         City   AccentCity  ... Population   Latitude  Longitude\n",
              "0            ad        aixas        Aixàs  ...        NaN  42.483333   1.466667\n",
              "1            ad   aixirivali   Aixirivali  ...        NaN  42.466667   1.500000\n",
              "2            ad   aixirivall   Aixirivall  ...        NaN  42.466667   1.500000\n",
              "3            ad    aixirvall    Aixirvall  ...        NaN  42.466667   1.500000\n",
              "4            ad     aixovall     Aixovall  ...        NaN  42.466667   1.483333\n",
              "...         ...          ...          ...  ...        ...        ...        ...\n",
              "3173952      zw     zimbabwe     Zimbabwe  ...        NaN -20.266667  30.916667\n",
              "3173953      zw   zimre park   Zimre Park  ...        NaN -17.866111  31.213611\n",
              "3173954      zw  ziyakamanas  Ziyakamanas  ...        NaN -18.216667  27.950000\n",
              "3173955      zw   zizalisari   Zizalisari  ...        NaN -17.758889  31.010556\n",
              "3173956      zw      zuzumba      Zuzumba  ...        NaN -20.033333  27.933333\n",
              "\n",
              "[3125978 rows x 7 columns]"
            ]
          },
          "metadata": {
            "tags": []
          },
          "execution_count": 9
        }
      ]
    },
    {
      "cell_type": "code",
      "metadata": {
        "colab": {
          "base_uri": "https://localhost:8080/",
          "height": 237
        },
        "id": "b1wcYO02WcHA",
        "outputId": "19c8a058-c89a-4cda-f009-63395423d8c3"
      },
      "source": [
        "##Validar data faltante de Ciudad\n",
        "data[data['City'].isnull()]"
      ],
      "execution_count": 10,
      "outputs": [
        {
          "output_type": "execute_result",
          "data": {
            "text/html": [
              "<div>\n",
              "<style scoped>\n",
              "    .dataframe tbody tr th:only-of-type {\n",
              "        vertical-align: middle;\n",
              "    }\n",
              "\n",
              "    .dataframe tbody tr th {\n",
              "        vertical-align: top;\n",
              "    }\n",
              "\n",
              "    .dataframe thead th {\n",
              "        text-align: right;\n",
              "    }\n",
              "</style>\n",
              "<table border=\"1\" class=\"dataframe\">\n",
              "  <thead>\n",
              "    <tr style=\"text-align: right;\">\n",
              "      <th></th>\n",
              "      <th>Country</th>\n",
              "      <th>City</th>\n",
              "      <th>AccentCity</th>\n",
              "      <th>Region</th>\n",
              "      <th>Population</th>\n",
              "      <th>Latitude</th>\n",
              "      <th>Longitude</th>\n",
              "    </tr>\n",
              "  </thead>\n",
              "  <tbody>\n",
              "    <tr>\n",
              "      <th>98581</th>\n",
              "      <td>al</td>\n",
              "      <td>NaN</td>\n",
              "      <td>Nan</td>\n",
              "      <td>47</td>\n",
              "      <td>NaN</td>\n",
              "      <td>42.011667</td>\n",
              "      <td>20.416389</td>\n",
              "    </tr>\n",
              "    <tr>\n",
              "      <th>545196</th>\n",
              "      <td>cn</td>\n",
              "      <td>NaN</td>\n",
              "      <td>Nan</td>\n",
              "      <td>11</td>\n",
              "      <td>NaN</td>\n",
              "      <td>29.359551</td>\n",
              "      <td>112.402433</td>\n",
              "    </tr>\n",
              "    <tr>\n",
              "      <th>959881</th>\n",
              "      <td>fr</td>\n",
              "      <td>NaN</td>\n",
              "      <td>Nan</td>\n",
              "      <td>A1</td>\n",
              "      <td>NaN</td>\n",
              "      <td>47.374053</td>\n",
              "      <td>4.358566</td>\n",
              "    </tr>\n",
              "    <tr>\n",
              "      <th>1348414</th>\n",
              "      <td>in</td>\n",
              "      <td>NaN</td>\n",
              "      <td>Nan</td>\n",
              "      <td>12</td>\n",
              "      <td>NaN</td>\n",
              "      <td>32.994444</td>\n",
              "      <td>74.347222</td>\n",
              "    </tr>\n",
              "    <tr>\n",
              "      <th>2133528</th>\n",
              "      <td>ph</td>\n",
              "      <td>NaN</td>\n",
              "      <td>Nan</td>\n",
              "      <td>H2</td>\n",
              "      <td>NaN</td>\n",
              "      <td>13.912500</td>\n",
              "      <td>122.172600</td>\n",
              "    </tr>\n",
              "    <tr>\n",
              "      <th>2753400</th>\n",
              "      <td>th</td>\n",
              "      <td>NaN</td>\n",
              "      <td>Nan</td>\n",
              "      <td>4</td>\n",
              "      <td>24670.0</td>\n",
              "      <td>18.792917</td>\n",
              "      <td>100.729722</td>\n",
              "    </tr>\n",
              "  </tbody>\n",
              "</table>\n",
              "</div>"
            ],
            "text/plain": [
              "        Country City AccentCity Region  Population   Latitude   Longitude\n",
              "98581        al  NaN        Nan     47         NaN  42.011667   20.416389\n",
              "545196       cn  NaN        Nan     11         NaN  29.359551  112.402433\n",
              "959881       fr  NaN        Nan     A1         NaN  47.374053    4.358566\n",
              "1348414      in  NaN        Nan     12         NaN  32.994444   74.347222\n",
              "2133528      ph  NaN        Nan     H2         NaN  13.912500  122.172600\n",
              "2753400      th  NaN        Nan      4     24670.0  18.792917  100.729722"
            ]
          },
          "metadata": {
            "tags": []
          },
          "execution_count": 10
        }
      ]
    },
    {
      "cell_type": "code",
      "metadata": {
        "colab": {
          "base_uri": "https://localhost:8080/",
          "height": 300
        },
        "id": "Ac-iHWmLWn-k",
        "outputId": "eeeb013d-1b1d-4936-b438-ca104f2d15a8"
      },
      "source": [
        "#Validar data faltante de Region\n",
        "data[data['Region'].isnull()]"
      ],
      "execution_count": 16,
      "outputs": [
        {
          "output_type": "execute_result",
          "data": {
            "text/html": [
              "<div>\n",
              "<style scoped>\n",
              "    .dataframe tbody tr th:only-of-type {\n",
              "        vertical-align: middle;\n",
              "    }\n",
              "\n",
              "    .dataframe tbody tr th {\n",
              "        vertical-align: top;\n",
              "    }\n",
              "\n",
              "    .dataframe thead th {\n",
              "        text-align: right;\n",
              "    }\n",
              "</style>\n",
              "<table border=\"1\" class=\"dataframe\">\n",
              "  <thead>\n",
              "    <tr style=\"text-align: right;\">\n",
              "      <th></th>\n",
              "      <th>Country</th>\n",
              "      <th>City</th>\n",
              "      <th>AccentCity</th>\n",
              "      <th>Region</th>\n",
              "      <th>Population</th>\n",
              "      <th>Latitude</th>\n",
              "      <th>Longitude</th>\n",
              "    </tr>\n",
              "  </thead>\n",
              "  <tbody>\n",
              "    <tr>\n",
              "      <th>55166</th>\n",
              "      <td>af</td>\n",
              "      <td>nazand</td>\n",
              "      <td>Nazand</td>\n",
              "      <td>NaN</td>\n",
              "      <td>NaN</td>\n",
              "      <td>32.400278</td>\n",
              "      <td>69.254722</td>\n",
              "    </tr>\n",
              "    <tr>\n",
              "      <th>79529</th>\n",
              "      <td>af</td>\n",
              "      <td>soripai narai</td>\n",
              "      <td>Soripai Narai</td>\n",
              "      <td>NaN</td>\n",
              "      <td>NaN</td>\n",
              "      <td>33.044444</td>\n",
              "      <td>69.516667</td>\n",
              "    </tr>\n",
              "    <tr>\n",
              "      <th>1318396</th>\n",
              "      <td>il</td>\n",
              "      <td>bayt safafa</td>\n",
              "      <td>Bayt Safafa</td>\n",
              "      <td>NaN</td>\n",
              "      <td>NaN</td>\n",
              "      <td>31.742667</td>\n",
              "      <td>35.203036</td>\n",
              "    </tr>\n",
              "    <tr>\n",
              "      <th>1318491</th>\n",
              "      <td>il</td>\n",
              "      <td>beit safafa</td>\n",
              "      <td>Beit Safafa</td>\n",
              "      <td>NaN</td>\n",
              "      <td>NaN</td>\n",
              "      <td>31.742667</td>\n",
              "      <td>35.203036</td>\n",
              "    </tr>\n",
              "    <tr>\n",
              "      <th>2220223</th>\n",
              "      <td>pk</td>\n",
              "      <td>nazand</td>\n",
              "      <td>Nazand</td>\n",
              "      <td>NaN</td>\n",
              "      <td>NaN</td>\n",
              "      <td>32.400278</td>\n",
              "      <td>69.254722</td>\n",
              "    </tr>\n",
              "    <tr>\n",
              "      <th>2235464</th>\n",
              "      <td>pk</td>\n",
              "      <td>soripai narai</td>\n",
              "      <td>Soripai Narai</td>\n",
              "      <td>NaN</td>\n",
              "      <td>NaN</td>\n",
              "      <td>33.044444</td>\n",
              "      <td>69.516667</td>\n",
              "    </tr>\n",
              "    <tr>\n",
              "      <th>2588960</th>\n",
              "      <td>sd</td>\n",
              "      <td>kajra</td>\n",
              "      <td>Kajra</td>\n",
              "      <td>NaN</td>\n",
              "      <td>NaN</td>\n",
              "      <td>17.251944</td>\n",
              "      <td>34.488056</td>\n",
              "    </tr>\n",
              "    <tr>\n",
              "      <th>2651070</th>\n",
              "      <td>sn</td>\n",
              "      <td>taba treich</td>\n",
              "      <td>Taba Treich</td>\n",
              "      <td>NaN</td>\n",
              "      <td>NaN</td>\n",
              "      <td>16.158611</td>\n",
              "      <td>-16.382500</td>\n",
              "    </tr>\n",
              "  </tbody>\n",
              "</table>\n",
              "</div>"
            ],
            "text/plain": [
              "        Country           City     AccentCity  ... Population   Latitude  Longitude\n",
              "55166        af         nazand         Nazand  ...        NaN  32.400278  69.254722\n",
              "79529        af  soripai narai  Soripai Narai  ...        NaN  33.044444  69.516667\n",
              "1318396      il    bayt safafa    Bayt Safafa  ...        NaN  31.742667  35.203036\n",
              "1318491      il    beit safafa    Beit Safafa  ...        NaN  31.742667  35.203036\n",
              "2220223      pk         nazand         Nazand  ...        NaN  32.400278  69.254722\n",
              "2235464      pk  soripai narai  Soripai Narai  ...        NaN  33.044444  69.516667\n",
              "2588960      sd          kajra          Kajra  ...        NaN  17.251944  34.488056\n",
              "2651070      sn    taba treich    Taba Treich  ...        NaN  16.158611 -16.382500\n",
              "\n",
              "[8 rows x 7 columns]"
            ]
          },
          "metadata": {
            "tags": []
          },
          "execution_count": 16
        }
      ]
    },
    {
      "cell_type": "code",
      "metadata": {
        "id": "DX6cQhmnM1qR"
      },
      "source": [
        "#Genero otro dataset para conservar Population\n",
        "data2 = data.dropna()"
      ],
      "execution_count": 17,
      "outputs": []
    },
    {
      "cell_type": "code",
      "metadata": {
        "id": "qs826f38OYGP"
      },
      "source": [
        "#Al haber gran cantidad de NAN para la columna Population (Superior al 98%) no tiene sentido analizar. Con respecto a la columna AccentCity, es un simil a City por lo tanto igual se elimina\n",
        "#Las filas NAN de Region (8), City (6) se eliminan igualmente\n",
        "#Elimando columna Population y AccentCity\n",
        "data.drop([\"Population\",\"AccentCity\"], axis = 1, inplace = True)"
      ],
      "execution_count": 18,
      "outputs": []
    },
    {
      "cell_type": "code",
      "metadata": {
        "id": "s3ejRx8PXyr9"
      },
      "source": [
        "#Elimando filas Region y City con NAN, ya que no alterarian el análisis final\n",
        "data.drop(data[data.Region.isnull()].index, inplace = True)\n",
        "data.drop(data[data.City.isnull()].index, inplace = True)"
      ],
      "execution_count": 19,
      "outputs": []
    },
    {
      "cell_type": "code",
      "metadata": {
        "colab": {
          "base_uri": "https://localhost:8080/"
        },
        "id": "kSObOBUVZmNF",
        "outputId": "7fe6f929-4b0d-4808-8af1-164c52350e5c"
      },
      "source": [
        "data.isna().sum()"
      ],
      "execution_count": 20,
      "outputs": [
        {
          "output_type": "execute_result",
          "data": {
            "text/plain": [
              "Country      0\n",
              "City         0\n",
              "Region       0\n",
              "Latitude     0\n",
              "Longitude    0\n",
              "dtype: int64"
            ]
          },
          "metadata": {
            "tags": []
          },
          "execution_count": 20
        }
      ]
    },
    {
      "cell_type": "code",
      "metadata": {
        "id": "rfdkNPA6_vwj",
        "colab": {
          "base_uri": "https://localhost:8080/"
        },
        "outputId": "7e7637b5-8a31-4a98-87d0-2d5c308384ad"
      },
      "source": [
        "#Top 20 de cantidad de registros por pais\n",
        "data.value_counts(data['Country']).sort_values(ascending=False).head(20)"
      ],
      "execution_count": 21,
      "outputs": [
        {
          "output_type": "execute_result",
          "data": {
            "text/plain": [
              "Country\n",
              "cn    238984\n",
              "ru    215938\n",
              "id    176546\n",
              "us    141989\n",
              "ir    123872\n",
              "pk     94245\n",
              "af     88747\n",
              "tr     72451\n",
              "de     70477\n",
              "fr     66361\n",
              "mx     62116\n",
              "th     56845\n",
              "pl     49666\n",
              "ph     48232\n",
              "kr     44601\n",
              "ng     43763\n",
              "br     43204\n",
              "ua     42775\n",
              "in     39812\n",
              "mm     33856\n",
              "dtype: int64"
            ]
          },
          "metadata": {
            "tags": []
          },
          "execution_count": 21
        }
      ]
    },
    {
      "cell_type": "code",
      "metadata": {
        "id": "eH9oj0XPE7wO",
        "colab": {
          "base_uri": "https://localhost:8080/"
        },
        "outputId": "24ae892b-d315-4051-8799-f4be7aeb8fbf"
      },
      "source": [
        "#Top 20 de cantidad de registros por ciudad\n",
        "data.value_counts(data['City']).sort_values(ascending=False).head(20)"
      ],
      "execution_count": 22,
      "outputs": [
        {
          "output_type": "execute_result",
          "data": {
            "text/plain": [
              "City\n",
              "san jose         328\n",
              "san antonio      320\n",
              "santa rosa       296\n",
              "santa cruz       282\n",
              "san juan         255\n",
              "san miguel       254\n",
              "santa maria      253\n",
              "san pedro        248\n",
              "san francisco    235\n",
              "san isidro       234\n",
              "buena vista      234\n",
              "santa ana        210\n",
              "san rafael       207\n",
              "santa rita       195\n",
              "santa lucia      194\n",
              "buenavista       190\n",
              "san vicente      186\n",
              "san luis         181\n",
              "santa barbara    176\n",
              "la esperanza     168\n",
              "dtype: int64"
            ]
          },
          "metadata": {
            "tags": []
          },
          "execution_count": 22
        }
      ]
    },
    {
      "cell_type": "code",
      "metadata": {
        "id": "iRdLMn6U-3Cp",
        "colab": {
          "base_uri": "https://localhost:8080/",
          "height": 284
        },
        "outputId": "16ef1414-e6d6-49d2-8977-515f6f863d0f"
      },
      "source": [
        "#Distribución del dataset por paises. Top 10\n",
        "plot = data['Country'].value_counts().head(10).plot(kind='bar',\n",
        "                                            title='Distribución dataset por cantidad de paises')"
      ],
      "execution_count": 23,
      "outputs": [
        {
          "output_type": "display_data",
          "data": {
            "image/png": "[encoded data removed]",
            "text/plain": [
              "<Figure size 432x288 with 1 Axes>"
            ]
          },
          "metadata": {
            "tags": [],
            "needs_background": "light"
          }
        }
      ]
    },
    {
      "cell_type": "code",
      "metadata": {
        "id": "qGbxyyDnEuiM",
        "colab": {
          "base_uri": "https://localhost:8080/",
          "height": 341
        },
        "outputId": "d9f18e2d-4c2b-4da3-bceb-a386eadedc44"
      },
      "source": [
        "#Distribución del dataset por ciudades. Top 20\n",
        "plot = data['City'].value_counts().head(20).plot(kind='bar',\n",
        "                                            title='Distribución dataset por cantidad de ciudades')"
      ],
      "execution_count": 24,
      "outputs": [
        {
          "output_type": "display_data",
          "data": {
            "image/png": "[encoded data removed]",
            "text/plain": [
              "<Figure size 432x288 with 1 Axes>"
            ]
          },
          "metadata": {
            "tags": [],
            "needs_background": "light"
          }
        }
      ]
    },
    {
      "cell_type": "code",
      "metadata": {
        "id": "LiYZ06HQL__X"
      },
      "source": [
        "#Filtro top 5 de paises con mayor registro y luego genero un dataset con el top 5 de paises para geolocalizar\n",
        "dataset_cn = data[data['Country'] == 'cn']"
      ],
      "execution_count": null,
      "outputs": []
    },
    {
      "cell_type": "code",
      "metadata": {
        "id": "8i77SnWURoGx"
      },
      "source": [
        "dataset_ru = data[data['Country'] == 'ru']"
      ],
      "execution_count": null,
      "outputs": []
    },
    {
      "cell_type": "code",
      "metadata": {
        "id": "8wLprUviRtwZ"
      },
      "source": [
        "dataset_id = data[data['Country'] == 'id']"
      ],
      "execution_count": null,
      "outputs": []
    },
    {
      "cell_type": "code",
      "metadata": {
        "id": "OhGQ38OzR009"
      },
      "source": [
        "dataset_us = data[data['Country'] == 'us']"
      ],
      "execution_count": 25,
      "outputs": []
    },
    {
      "cell_type": "code",
      "metadata": {
        "id": "EL-LoeA9R4QU"
      },
      "source": [
        "dataset_ir = data[data['Country'] == 'ir']"
      ],
      "execution_count": null,
      "outputs": []
    },
    {
      "cell_type": "code",
      "metadata": {
        "id": "ZzUkd8T18cwT"
      },
      "source": [
        "dataset_cn.to_csv (r'/content/drive/MyDrive/BCI/dataset_cn.csv', index=None)"
      ],
      "execution_count": null,
      "outputs": []
    },
    {
      "cell_type": "code",
      "metadata": {
        "id": "jzMAQzvPR_XI"
      },
      "source": [
        "dataset_ru.to_csv (r'/content/drive/MyDrive/BCI/dataset_ru.csv', index=None)"
      ],
      "execution_count": null,
      "outputs": []
    },
    {
      "cell_type": "code",
      "metadata": {
        "id": "W7r4zED7R_fb"
      },
      "source": [
        "dataset_id.to_csv (r'/content/drive/MyDrive/BCI/dataset_id.csv', index=None)"
      ],
      "execution_count": null,
      "outputs": []
    },
    {
      "cell_type": "code",
      "metadata": {
        "id": "Jsd9Hp7IR_mw"
      },
      "source": [
        "dataset_us.to_csv (r'/content/drive/MyDrive/BCI/dataset_us.csv', index=None)"
      ],
      "execution_count": null,
      "outputs": []
    },
    {
      "cell_type": "code",
      "metadata": {
        "id": "wrgLGV10R_ti"
      },
      "source": [
        "dataset_ir.to_csv (r'/content/drive/MyDrive/BCI/dataset_ir.csv', index=None)"
      ],
      "execution_count": null,
      "outputs": []
    },
    {
      "cell_type": "code",
      "metadata": {
        "id": "QpPv4lV-wr2y",
        "colab": {
          "base_uri": "https://localhost:8080/",
          "height": 424
        },
        "outputId": "877019fa-a9c4-40fa-85f4-e9f310f8d7b2"
      },
      "source": [
        "data2"
      ],
      "execution_count": null,
      "outputs": [
        {
          "output_type": "execute_result",
          "data": {
            "text/html": [
              "<div>\n",
              "<style scoped>\n",
              "    .dataframe tbody tr th:only-of-type {\n",
              "        vertical-align: middle;\n",
              "    }\n",
              "\n",
              "    .dataframe tbody tr th {\n",
              "        vertical-align: top;\n",
              "    }\n",
              "\n",
              "    .dataframe thead th {\n",
              "        text-align: right;\n",
              "    }\n",
              "</style>\n",
              "<table border=\"1\" class=\"dataframe\">\n",
              "  <thead>\n",
              "    <tr style=\"text-align: right;\">\n",
              "      <th></th>\n",
              "      <th>Country</th>\n",
              "      <th>City</th>\n",
              "      <th>AccentCity</th>\n",
              "      <th>Region</th>\n",
              "      <th>Population</th>\n",
              "      <th>Latitude</th>\n",
              "      <th>Longitude</th>\n",
              "    </tr>\n",
              "  </thead>\n",
              "  <tbody>\n",
              "    <tr>\n",
              "      <th>6</th>\n",
              "      <td>ad</td>\n",
              "      <td>andorra la vella</td>\n",
              "      <td>Andorra la Vella</td>\n",
              "      <td>7</td>\n",
              "      <td>20430.0</td>\n",
              "      <td>42.500000</td>\n",
              "      <td>1.516667</td>\n",
              "    </tr>\n",
              "    <tr>\n",
              "      <th>20</th>\n",
              "      <td>ad</td>\n",
              "      <td>canillo</td>\n",
              "      <td>Canillo</td>\n",
              "      <td>2</td>\n",
              "      <td>3292.0</td>\n",
              "      <td>42.566667</td>\n",
              "      <td>1.600000</td>\n",
              "    </tr>\n",
              "    <tr>\n",
              "      <th>32</th>\n",
              "      <td>ad</td>\n",
              "      <td>encamp</td>\n",
              "      <td>Encamp</td>\n",
              "      <td>3</td>\n",
              "      <td>11224.0</td>\n",
              "      <td>42.533333</td>\n",
              "      <td>1.583333</td>\n",
              "    </tr>\n",
              "    <tr>\n",
              "      <th>49</th>\n",
              "      <td>ad</td>\n",
              "      <td>la massana</td>\n",
              "      <td>La Massana</td>\n",
              "      <td>4</td>\n",
              "      <td>7211.0</td>\n",
              "      <td>42.550000</td>\n",
              "      <td>1.516667</td>\n",
              "    </tr>\n",
              "    <tr>\n",
              "      <th>53</th>\n",
              "      <td>ad</td>\n",
              "      <td>les escaldes</td>\n",
              "      <td>Les Escaldes</td>\n",
              "      <td>8</td>\n",
              "      <td>15854.0</td>\n",
              "      <td>42.500000</td>\n",
              "      <td>1.533333</td>\n",
              "    </tr>\n",
              "    <tr>\n",
              "      <th>...</th>\n",
              "      <td>...</td>\n",
              "      <td>...</td>\n",
              "      <td>...</td>\n",
              "      <td>...</td>\n",
              "      <td>...</td>\n",
              "      <td>...</td>\n",
              "      <td>...</td>\n",
              "    </tr>\n",
              "    <tr>\n",
              "      <th>3173646</th>\n",
              "      <td>zw</td>\n",
              "      <td>redcliffe</td>\n",
              "      <td>Redcliffe</td>\n",
              "      <td>6</td>\n",
              "      <td>38231.0</td>\n",
              "      <td>-19.033333</td>\n",
              "      <td>29.783333</td>\n",
              "    </tr>\n",
              "    <tr>\n",
              "      <th>3173676</th>\n",
              "      <td>zw</td>\n",
              "      <td>rusape</td>\n",
              "      <td>Rusape</td>\n",
              "      <td>4</td>\n",
              "      <td>23761.0</td>\n",
              "      <td>-18.533333</td>\n",
              "      <td>32.116667</td>\n",
              "    </tr>\n",
              "    <tr>\n",
              "      <th>3173737</th>\n",
              "      <td>zw</td>\n",
              "      <td>shurugwi</td>\n",
              "      <td>Shurugwi</td>\n",
              "      <td>7</td>\n",
              "      <td>17107.0</td>\n",
              "      <td>-19.666667</td>\n",
              "      <td>30.000000</td>\n",
              "    </tr>\n",
              "    <tr>\n",
              "      <th>3173892</th>\n",
              "      <td>zw</td>\n",
              "      <td>victoria falls</td>\n",
              "      <td>Victoria Falls</td>\n",
              "      <td>0</td>\n",
              "      <td>36702.0</td>\n",
              "      <td>-17.933333</td>\n",
              "      <td>25.833333</td>\n",
              "    </tr>\n",
              "    <tr>\n",
              "      <th>3173957</th>\n",
              "      <td>zw</td>\n",
              "      <td>zvishavane</td>\n",
              "      <td>Zvishavane</td>\n",
              "      <td>7</td>\n",
              "      <td>79876.0</td>\n",
              "      <td>-20.333333</td>\n",
              "      <td>30.033333</td>\n",
              "    </tr>\n",
              "  </tbody>\n",
              "</table>\n",
              "<p>47979 rows × 7 columns</p>\n",
              "</div>"
            ],
            "text/plain": [
              "        Country              City  ...   Latitude  Longitude\n",
              "6            ad  andorra la vella  ...  42.500000   1.516667\n",
              "20           ad           canillo  ...  42.566667   1.600000\n",
              "32           ad            encamp  ...  42.533333   1.583333\n",
              "49           ad        la massana  ...  42.550000   1.516667\n",
              "53           ad      les escaldes  ...  42.500000   1.533333\n",
              "...         ...               ...  ...        ...        ...\n",
              "3173646      zw         redcliffe  ... -19.033333  29.783333\n",
              "3173676      zw            rusape  ... -18.533333  32.116667\n",
              "3173737      zw          shurugwi  ... -19.666667  30.000000\n",
              "3173892      zw    victoria falls  ... -17.933333  25.833333\n",
              "3173957      zw        zvishavane  ... -20.333333  30.033333\n",
              "\n",
              "[47979 rows x 7 columns]"
            ]
          },
          "metadata": {
            "tags": []
          },
          "execution_count": 217
        }
      ]
    },
    {
      "cell_type": "code",
      "metadata": {
        "id": "GzAJtH7PxSln"
      },
      "source": [
        "#Guardo dataset con registros de Population sin valores nulos como referencia\n",
        "data2.to_csv (r'/content/drive/MyDrive/BCI/datasetPopulation.csv', index=None)"
      ],
      "execution_count": null,
      "outputs": []
    },
    {
      "cell_type": "code",
      "metadata": {
        "id": "fgduLxLjXgKm"
      },
      "source": [
        "#Se suber los archivos generados en servicio de mymaps de Google para referenciar puntos en mapa. Se distribuyen en distintos archivos por el peso de los archivos, lo cuál el servicio\n",
        "#de google no soporta un peso mayor a 10mb."
      ],
      "execution_count": null,
      "outputs": []
    },
    {
      "cell_type": "code",
      "metadata": {
        "id": "L8SXWzmXDeCt",
        "outputId": "71a1d71d-587e-4866-c149-67ec9ef222a8",
        "colab": {
          "base_uri": "https://localhost:8080/",
          "height": 424
        }
      },
      "source": [
        "dataset_us"
      ],
      "execution_count": 26,
      "outputs": [
        {
          "output_type": "execute_result",
          "data": {
            "text/html": [
              "<div>\n",
              "<style scoped>\n",
              "    .dataframe tbody tr th:only-of-type {\n",
              "        vertical-align: middle;\n",
              "    }\n",
              "\n",
              "    .dataframe tbody tr th {\n",
              "        vertical-align: top;\n",
              "    }\n",
              "\n",
              "    .dataframe thead th {\n",
              "        text-align: right;\n",
              "    }\n",
              "</style>\n",
              "<table border=\"1\" class=\"dataframe\">\n",
              "  <thead>\n",
              "    <tr style=\"text-align: right;\">\n",
              "      <th></th>\n",
              "      <th>Country</th>\n",
              "      <th>City</th>\n",
              "      <th>Region</th>\n",
              "      <th>Latitude</th>\n",
              "      <th>Longitude</th>\n",
              "    </tr>\n",
              "  </thead>\n",
              "  <tbody>\n",
              "    <tr>\n",
              "      <th>2907718</th>\n",
              "      <td>us</td>\n",
              "      <td>abanda</td>\n",
              "      <td>AL</td>\n",
              "      <td>33.100833</td>\n",
              "      <td>-85.529722</td>\n",
              "    </tr>\n",
              "    <tr>\n",
              "      <th>2907719</th>\n",
              "      <td>us</td>\n",
              "      <td>abbeville</td>\n",
              "      <td>AL</td>\n",
              "      <td>31.571667</td>\n",
              "      <td>-85.250556</td>\n",
              "    </tr>\n",
              "    <tr>\n",
              "      <th>2907720</th>\n",
              "      <td>us</td>\n",
              "      <td>abbot springs</td>\n",
              "      <td>AL</td>\n",
              "      <td>33.360833</td>\n",
              "      <td>-86.481667</td>\n",
              "    </tr>\n",
              "    <tr>\n",
              "      <th>2907721</th>\n",
              "      <td>us</td>\n",
              "      <td>abel</td>\n",
              "      <td>AL</td>\n",
              "      <td>33.548611</td>\n",
              "      <td>-85.712500</td>\n",
              "    </tr>\n",
              "    <tr>\n",
              "      <th>2907722</th>\n",
              "      <td>us</td>\n",
              "      <td>abercrombie</td>\n",
              "      <td>AL</td>\n",
              "      <td>32.848611</td>\n",
              "      <td>-87.165000</td>\n",
              "    </tr>\n",
              "    <tr>\n",
              "      <th>...</th>\n",
              "      <td>...</td>\n",
              "      <td>...</td>\n",
              "      <td>...</td>\n",
              "      <td>...</td>\n",
              "      <td>...</td>\n",
              "    </tr>\n",
              "    <tr>\n",
              "      <th>3049702</th>\n",
              "      <td>us</td>\n",
              "      <td>wyoming</td>\n",
              "      <td>WY</td>\n",
              "      <td>41.477500</td>\n",
              "      <td>-105.636111</td>\n",
              "    </tr>\n",
              "    <tr>\n",
              "      <th>3049703</th>\n",
              "      <td>us</td>\n",
              "      <td>wyopo</td>\n",
              "      <td>WY</td>\n",
              "      <td>42.855556</td>\n",
              "      <td>-108.688611</td>\n",
              "    </tr>\n",
              "    <tr>\n",
              "      <th>3049704</th>\n",
              "      <td>us</td>\n",
              "      <td>y-o ranch</td>\n",
              "      <td>WY</td>\n",
              "      <td>42.030833</td>\n",
              "      <td>-104.939444</td>\n",
              "    </tr>\n",
              "    <tr>\n",
              "      <th>3049705</th>\n",
              "      <td>us</td>\n",
              "      <td>yanceys</td>\n",
              "      <td>WY</td>\n",
              "      <td>44.930833</td>\n",
              "      <td>-110.435556</td>\n",
              "    </tr>\n",
              "    <tr>\n",
              "      <th>3049706</th>\n",
              "      <td>us</td>\n",
              "      <td>yoder</td>\n",
              "      <td>WY</td>\n",
              "      <td>41.916944</td>\n",
              "      <td>-104.295278</td>\n",
              "    </tr>\n",
              "  </tbody>\n",
              "</table>\n",
              "<p>141989 rows × 5 columns</p>\n",
              "</div>"
            ],
            "text/plain": [
              "        Country           City Region   Latitude   Longitude\n",
              "2907718      us         abanda     AL  33.100833  -85.529722\n",
              "2907719      us      abbeville     AL  31.571667  -85.250556\n",
              "2907720      us  abbot springs     AL  33.360833  -86.481667\n",
              "2907721      us           abel     AL  33.548611  -85.712500\n",
              "2907722      us    abercrombie     AL  32.848611  -87.165000\n",
              "...         ...            ...    ...        ...         ...\n",
              "3049702      us        wyoming     WY  41.477500 -105.636111\n",
              "3049703      us          wyopo     WY  42.855556 -108.688611\n",
              "3049704      us      y-o ranch     WY  42.030833 -104.939444\n",
              "3049705      us        yanceys     WY  44.930833 -110.435556\n",
              "3049706      us          yoder     WY  41.916944 -104.295278\n",
              "\n",
              "[141989 rows x 5 columns]"
            ]
          },
          "metadata": {
            "tags": []
          },
          "execution_count": 26
        }
      ]
    },
    {
      "cell_type": "code",
      "metadata": {
        "id": "SQV-wXOOGydp",
        "outputId": "5c94c194-2f31-4191-d6e7-0eb1772e218d",
        "colab": {
          "base_uri": "https://localhost:8080/"
        }
      },
      "source": [
        "#Top 20 de cantidad de registros por pais\n",
        "dataset_us.value_counts(dataset_us['City']).sort_values(ascending=False).head(30)"
      ],
      "execution_count": 34,
      "outputs": [
        {
          "output_type": "execute_result",
          "data": {
            "text/plain": [
              "City\n",
              "riverside          46\n",
              "centerville        43\n",
              "fairview           40\n",
              "midway             39\n",
              "franklin           39\n",
              "greenwood          37\n",
              "union              37\n",
              "glendale           36\n",
              "marion             36\n",
              "salem              36\n",
              "lincoln            35\n",
              "georgetown         35\n",
              "oakland            35\n",
              "pleasant valley    35\n",
              "liberty            35\n",
              "fairfield          35\n",
              "clinton            34\n",
              "florence           34\n",
              "arlington          34\n",
              "greenville         34\n",
              "springfield        34\n",
              "bethel             34\n",
              "chester            33\n",
              "kingston           33\n",
              "clifton            33\n",
              "newport            33\n",
              "milton             33\n",
              "farmington         33\n",
              "hamilton           33\n",
              "eden               32\n",
              "dtype: int64"
            ]
          },
          "metadata": {
            "tags": []
          },
          "execution_count": 34
        }
      ]
    },
    {
      "cell_type": "code",
      "metadata": {
        "id": "8w-yoeLFDsXz",
        "outputId": "7450e6b0-3db1-43e9-9eaf-34431c4653b0",
        "colab": {
          "base_uri": "https://localhost:8080/",
          "height": 347
        }
      },
      "source": [
        "#Distribución del dataset por paises. Top 10\n",
        "plot = dataset_us['City'].value_counts().head(20).plot(kind='bar',\n",
        "                                            title='Distribución dataset por cantidad de ciudadades US')"
      ],
      "execution_count": 31,
      "outputs": [
        {
          "output_type": "display_data",
          "data": {
            "image/png": "[encoded data removed]",
            "text/plain": [
              "<Figure size 432x288 with 1 Axes>"
            ]
          },
          "metadata": {
            "tags": [],
            "needs_background": "light"
          }
        }
      ]
    },
    {
      "cell_type": "code",
      "metadata": {
        "id": "iZ4ii9ImItSS"
      },
      "source": [
        "dataset_gb = data[data['Country'] == 'gb']"
      ],
      "execution_count": 35,
      "outputs": []
    },
    {
      "cell_type": "code",
      "metadata": {
        "id": "OXNLeLtvI1aM"
      },
      "source": [
        "dataset_gb.to_csv (r'/content/drive/MyDrive/BCI/dataset_gb.csv', index=None)"
      ],
      "execution_count": 36,
      "outputs": []
    },
    {
      "cell_type": "code",
      "metadata": {
        "id": "LgHBKishJaLE",
        "outputId": "3a659e3f-9dcf-4429-fc54-fe1d5e6b24b2",
        "colab": {
          "base_uri": "https://localhost:8080/",
          "height": 424
        }
      },
      "source": [
        "dataset_gb"
      ],
      "execution_count": 37,
      "outputs": [
        {
          "output_type": "execute_result",
          "data": {
            "text/html": [
              "<div>\n",
              "<style scoped>\n",
              "    .dataframe tbody tr th:only-of-type {\n",
              "        vertical-align: middle;\n",
              "    }\n",
              "\n",
              "    .dataframe tbody tr th {\n",
              "        vertical-align: top;\n",
              "    }\n",
              "\n",
              "    .dataframe thead th {\n",
              "        text-align: right;\n",
              "    }\n",
              "</style>\n",
              "<table border=\"1\" class=\"dataframe\">\n",
              "  <thead>\n",
              "    <tr style=\"text-align: right;\">\n",
              "      <th></th>\n",
              "      <th>Country</th>\n",
              "      <th>City</th>\n",
              "      <th>Region</th>\n",
              "      <th>Latitude</th>\n",
              "      <th>Longitude</th>\n",
              "    </tr>\n",
              "  </thead>\n",
              "  <tbody>\n",
              "    <tr>\n",
              "      <th>986483</th>\n",
              "      <td>gb</td>\n",
              "      <td>abberley</td>\n",
              "      <td>Q4</td>\n",
              "      <td>52.300000</td>\n",
              "      <td>-2.366667</td>\n",
              "    </tr>\n",
              "    <tr>\n",
              "      <th>986484</th>\n",
              "      <td>gb</td>\n",
              "      <td>abberton</td>\n",
              "      <td>E4</td>\n",
              "      <td>51.833333</td>\n",
              "      <td>0.916667</td>\n",
              "    </tr>\n",
              "    <tr>\n",
              "      <th>986485</th>\n",
              "      <td>gb</td>\n",
              "      <td>abberton</td>\n",
              "      <td>Q4</td>\n",
              "      <td>52.183333</td>\n",
              "      <td>-2.016667</td>\n",
              "    </tr>\n",
              "    <tr>\n",
              "      <th>986486</th>\n",
              "      <td>gb</td>\n",
              "      <td>abbess roding</td>\n",
              "      <td>E4</td>\n",
              "      <td>51.783333</td>\n",
              "      <td>0.266667</td>\n",
              "    </tr>\n",
              "    <tr>\n",
              "      <th>986487</th>\n",
              "      <td>gb</td>\n",
              "      <td>abbey-cwmhir</td>\n",
              "      <td>Y8</td>\n",
              "      <td>52.333333</td>\n",
              "      <td>-3.400000</td>\n",
              "    </tr>\n",
              "    <tr>\n",
              "      <th>...</th>\n",
              "      <td>...</td>\n",
              "      <td>...</td>\n",
              "      <td>...</td>\n",
              "      <td>...</td>\n",
              "      <td>...</td>\n",
              "    </tr>\n",
              "    <tr>\n",
              "      <th>1004186</th>\n",
              "      <td>gb</td>\n",
              "      <td>zeals</td>\n",
              "      <td>P8</td>\n",
              "      <td>51.083611</td>\n",
              "      <td>-2.314167</td>\n",
              "    </tr>\n",
              "    <tr>\n",
              "      <th>1004187</th>\n",
              "      <td>gb</td>\n",
              "      <td>zeal</td>\n",
              "      <td>P8</td>\n",
              "      <td>51.083611</td>\n",
              "      <td>-2.314167</td>\n",
              "    </tr>\n",
              "    <tr>\n",
              "      <th>1004188</th>\n",
              "      <td>gb</td>\n",
              "      <td>zelah</td>\n",
              "      <td>C6</td>\n",
              "      <td>50.316667</td>\n",
              "      <td>-5.066667</td>\n",
              "    </tr>\n",
              "    <tr>\n",
              "      <th>1004189</th>\n",
              "      <td>gb</td>\n",
              "      <td>zennor</td>\n",
              "      <td>C6</td>\n",
              "      <td>50.183333</td>\n",
              "      <td>-5.566667</td>\n",
              "    </tr>\n",
              "    <tr>\n",
              "      <th>1004190</th>\n",
              "      <td>gb</td>\n",
              "      <td>zetland</td>\n",
              "      <td>W3</td>\n",
              "      <td>60.333333</td>\n",
              "      <td>-1.333333</td>\n",
              "    </tr>\n",
              "  </tbody>\n",
              "</table>\n",
              "<p>17708 rows × 5 columns</p>\n",
              "</div>"
            ],
            "text/plain": [
              "        Country           City Region   Latitude  Longitude\n",
              "986483       gb       abberley     Q4  52.300000  -2.366667\n",
              "986484       gb       abberton     E4  51.833333   0.916667\n",
              "986485       gb       abberton     Q4  52.183333  -2.016667\n",
              "986486       gb  abbess roding     E4  51.783333   0.266667\n",
              "986487       gb   abbey-cwmhir     Y8  52.333333  -3.400000\n",
              "...         ...            ...    ...        ...        ...\n",
              "1004186      gb          zeals     P8  51.083611  -2.314167\n",
              "1004187      gb           zeal     P8  51.083611  -2.314167\n",
              "1004188      gb          zelah     C6  50.316667  -5.066667\n",
              "1004189      gb         zennor     C6  50.183333  -5.566667\n",
              "1004190      gb        zetland     W3  60.333333  -1.333333\n",
              "\n",
              "[17708 rows x 5 columns]"
            ]
          },
          "metadata": {
            "tags": []
          },
          "execution_count": 37
        }
      ]
    }
  ]
}