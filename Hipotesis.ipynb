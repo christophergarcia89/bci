{
  "nbformat": 4,
  "nbformat_minor": 0,
  "metadata": {
    "colab": {
      "name": "Hipotesis.ipynb",
      "provenance": [],
      "authorship_tag": "ABX9TyMvDdlDuIBjk5IHU2tf6DZX",
      "include_colab_link": true
    },
    "kernelspec": {
      "name": "python3",
      "display_name": "Python 3"
    },
    "language_info": {
      "name": "python"
    }
  },
  "cells": [
    {
      "cell_type": "markdown",
      "metadata": {
        "id": "view-in-github",
        "colab_type": "text"
      },
      "source": [
        "<a href=\"https://colab.research.google.com/github/christophergarcia89/bci/blob/main/Hipotesis.ipynb\" target=\"_parent\"><img src=\"https://colab.research.google.com/assets/colab-badge.svg\" alt=\"Open In Colab\"/></a>"
      ]
    },
    {
      "cell_type": "code",
      "metadata": {
        "id": "904fvsC5KIiy"
      },
      "source": [
        "import pandas as pd\n",
        "import numpy as np\n",
        "import seaborn as sns\n",
        "import matplotlib.pyplot as plt"
      ],
      "execution_count": 142,
      "outputs": []
    },
    {
      "cell_type": "code",
      "metadata": {
        "colab": {
          "base_uri": "https://localhost:8080/"
        },
        "id": "R27UKH9TKcCG",
        "outputId": "755e77b9-b1ec-4585-d64b-860902dcf6f7"
      },
      "source": [
        "#Importar libreria para leer dataset desde drive\n",
        "from google.colab import drive\n",
        "drive.mount(\"/content/drive\")"
      ],
      "execution_count": 143,
      "outputs": [
        {
          "output_type": "stream",
          "text": [
            "Drive already mounted at /content/drive; to attempt to forcibly remount, call drive.mount(\"/content/drive\", force_remount=True).\n"
          ],
          "name": "stdout"
        }
      ]
    },
    {
      "cell_type": "code",
      "metadata": {
        "colab": {
          "base_uri": "https://localhost:8080/"
        },
        "id": "it1-u2WCKn7Q",
        "outputId": "63a6934e-6a2c-452b-dba8-aa29d1b36730"
      },
      "source": [
        "# Leer data\n",
        "data = pd.read_csv(\"/content/drive/MyDrive/BCI/worldcitiespop.txt\", encoding= 'unicode_escape')"
      ],
      "execution_count": 188,
      "outputs": [
        {
          "output_type": "stream",
          "text": [
            "/usr/local/lib/python3.7/dist-packages/IPython/core/interactiveshell.py:2718: DtypeWarning: Columns (3) have mixed types.Specify dtype option on import or set low_memory=False.\n",
            "  interactivity=interactivity, compiler=compiler, result=result)\n"
          ],
          "name": "stderr"
        }
      ]
    },
    {
      "cell_type": "code",
      "metadata": {
        "colab": {
          "base_uri": "https://localhost:8080/",
          "height": 206
        },
        "id": "8oTEYhrhMZMX",
        "outputId": "3119956e-5185-4384-8ff3-0869afa32cf5"
      },
      "source": [
        "#Contenido dataset\n",
        "data.head(5)"
      ],
      "execution_count": 189,
      "outputs": [
        {
          "output_type": "execute_result",
          "data": {
            "text/html": [
              "<div>\n",
              "<style scoped>\n",
              "    .dataframe tbody tr th:only-of-type {\n",
              "        vertical-align: middle;\n",
              "    }\n",
              "\n",
              "    .dataframe tbody tr th {\n",
              "        vertical-align: top;\n",
              "    }\n",
              "\n",
              "    .dataframe thead th {\n",
              "        text-align: right;\n",
              "    }\n",
              "</style>\n",
              "<table border=\"1\" class=\"dataframe\">\n",
              "  <thead>\n",
              "    <tr style=\"text-align: right;\">\n",
              "      <th></th>\n",
              "      <th>Country</th>\n",
              "      <th>City</th>\n",
              "      <th>AccentCity</th>\n",
              "      <th>Region</th>\n",
              "      <th>Population</th>\n",
              "      <th>Latitude</th>\n",
              "      <th>Longitude</th>\n",
              "    </tr>\n",
              "  </thead>\n",
              "  <tbody>\n",
              "    <tr>\n",
              "      <th>0</th>\n",
              "      <td>ad</td>\n",
              "      <td>aixas</td>\n",
              "      <td>Aixàs</td>\n",
              "      <td>6</td>\n",
              "      <td>NaN</td>\n",
              "      <td>42.483333</td>\n",
              "      <td>1.466667</td>\n",
              "    </tr>\n",
              "    <tr>\n",
              "      <th>1</th>\n",
              "      <td>ad</td>\n",
              "      <td>aixirivali</td>\n",
              "      <td>Aixirivali</td>\n",
              "      <td>6</td>\n",
              "      <td>NaN</td>\n",
              "      <td>42.466667</td>\n",
              "      <td>1.500000</td>\n",
              "    </tr>\n",
              "    <tr>\n",
              "      <th>2</th>\n",
              "      <td>ad</td>\n",
              "      <td>aixirivall</td>\n",
              "      <td>Aixirivall</td>\n",
              "      <td>6</td>\n",
              "      <td>NaN</td>\n",
              "      <td>42.466667</td>\n",
              "      <td>1.500000</td>\n",
              "    </tr>\n",
              "    <tr>\n",
              "      <th>3</th>\n",
              "      <td>ad</td>\n",
              "      <td>aixirvall</td>\n",
              "      <td>Aixirvall</td>\n",
              "      <td>6</td>\n",
              "      <td>NaN</td>\n",
              "      <td>42.466667</td>\n",
              "      <td>1.500000</td>\n",
              "    </tr>\n",
              "    <tr>\n",
              "      <th>4</th>\n",
              "      <td>ad</td>\n",
              "      <td>aixovall</td>\n",
              "      <td>Aixovall</td>\n",
              "      <td>6</td>\n",
              "      <td>NaN</td>\n",
              "      <td>42.466667</td>\n",
              "      <td>1.483333</td>\n",
              "    </tr>\n",
              "  </tbody>\n",
              "</table>\n",
              "</div>"
            ],
            "text/plain": [
              "  Country        City  AccentCity Region  Population   Latitude  Longitude\n",
              "0      ad       aixas       Aixàs      6         NaN  42.483333   1.466667\n",
              "1      ad  aixirivali  Aixirivali      6         NaN  42.466667   1.500000\n",
              "2      ad  aixirivall  Aixirivall      6         NaN  42.466667   1.500000\n",
              "3      ad   aixirvall   Aixirvall      6         NaN  42.466667   1.500000\n",
              "4      ad    aixovall    Aixovall      6         NaN  42.466667   1.483333"
            ]
          },
          "metadata": {
            "tags": []
          },
          "execution_count": 189
        }
      ]
    },
    {
      "cell_type": "code",
      "metadata": {
        "colab": {
          "base_uri": "https://localhost:8080/",
          "height": 206
        },
        "id": "CUGMkqOeMlRQ",
        "outputId": "b73eb09a-27e9-4a88-e168-365e429d5f37"
      },
      "source": [
        "data.tail(5)"
      ],
      "execution_count": 190,
      "outputs": [
        {
          "output_type": "execute_result",
          "data": {
            "text/html": [
              "<div>\n",
              "<style scoped>\n",
              "    .dataframe tbody tr th:only-of-type {\n",
              "        vertical-align: middle;\n",
              "    }\n",
              "\n",
              "    .dataframe tbody tr th {\n",
              "        vertical-align: top;\n",
              "    }\n",
              "\n",
              "    .dataframe thead th {\n",
              "        text-align: right;\n",
              "    }\n",
              "</style>\n",
              "<table border=\"1\" class=\"dataframe\">\n",
              "  <thead>\n",
              "    <tr style=\"text-align: right;\">\n",
              "      <th></th>\n",
              "      <th>Country</th>\n",
              "      <th>City</th>\n",
              "      <th>AccentCity</th>\n",
              "      <th>Region</th>\n",
              "      <th>Population</th>\n",
              "      <th>Latitude</th>\n",
              "      <th>Longitude</th>\n",
              "    </tr>\n",
              "  </thead>\n",
              "  <tbody>\n",
              "    <tr>\n",
              "      <th>3173953</th>\n",
              "      <td>zw</td>\n",
              "      <td>zimre park</td>\n",
              "      <td>Zimre Park</td>\n",
              "      <td>4</td>\n",
              "      <td>NaN</td>\n",
              "      <td>-17.866111</td>\n",
              "      <td>31.213611</td>\n",
              "    </tr>\n",
              "    <tr>\n",
              "      <th>3173954</th>\n",
              "      <td>zw</td>\n",
              "      <td>ziyakamanas</td>\n",
              "      <td>Ziyakamanas</td>\n",
              "      <td>0</td>\n",
              "      <td>NaN</td>\n",
              "      <td>-18.216667</td>\n",
              "      <td>27.950000</td>\n",
              "    </tr>\n",
              "    <tr>\n",
              "      <th>3173955</th>\n",
              "      <td>zw</td>\n",
              "      <td>zizalisari</td>\n",
              "      <td>Zizalisari</td>\n",
              "      <td>4</td>\n",
              "      <td>NaN</td>\n",
              "      <td>-17.758889</td>\n",
              "      <td>31.010556</td>\n",
              "    </tr>\n",
              "    <tr>\n",
              "      <th>3173956</th>\n",
              "      <td>zw</td>\n",
              "      <td>zuzumba</td>\n",
              "      <td>Zuzumba</td>\n",
              "      <td>6</td>\n",
              "      <td>NaN</td>\n",
              "      <td>-20.033333</td>\n",
              "      <td>27.933333</td>\n",
              "    </tr>\n",
              "    <tr>\n",
              "      <th>3173957</th>\n",
              "      <td>zw</td>\n",
              "      <td>zvishavane</td>\n",
              "      <td>Zvishavane</td>\n",
              "      <td>7</td>\n",
              "      <td>79876.0</td>\n",
              "      <td>-20.333333</td>\n",
              "      <td>30.033333</td>\n",
              "    </tr>\n",
              "  </tbody>\n",
              "</table>\n",
              "</div>"
            ],
            "text/plain": [
              "        Country         City   AccentCity  ... Population   Latitude  Longitude\n",
              "3173953      zw   zimre park   Zimre Park  ...        NaN -17.866111  31.213611\n",
              "3173954      zw  ziyakamanas  Ziyakamanas  ...        NaN -18.216667  27.950000\n",
              "3173955      zw   zizalisari   Zizalisari  ...        NaN -17.758889  31.010556\n",
              "3173956      zw      zuzumba      Zuzumba  ...        NaN -20.033333  27.933333\n",
              "3173957      zw   zvishavane   Zvishavane  ...    79876.0 -20.333333  30.033333\n",
              "\n",
              "[5 rows x 7 columns]"
            ]
          },
          "metadata": {
            "tags": []
          },
          "execution_count": 190
        }
      ]
    },
    {
      "cell_type": "code",
      "metadata": {
        "colab": {
          "base_uri": "https://localhost:8080/"
        },
        "id": "ijR-Q0btMs4_",
        "outputId": "2f489fde-3315-4ed3-f3f9-bb870b333193"
      },
      "source": [
        "#Tipo de variables\n",
        "data.info()"
      ],
      "execution_count": 191,
      "outputs": [
        {
          "output_type": "stream",
          "text": [
            "<class 'pandas.core.frame.DataFrame'>\n",
            "RangeIndex: 3173958 entries, 0 to 3173957\n",
            "Data columns (total 7 columns):\n",
            " #   Column      Dtype  \n",
            "---  ------      -----  \n",
            " 0   Country     object \n",
            " 1   City        object \n",
            " 2   AccentCity  object \n",
            " 3   Region      object \n",
            " 4   Population  float64\n",
            " 5   Latitude    float64\n",
            " 6   Longitude   float64\n",
            "dtypes: float64(3), object(4)\n",
            "memory usage: 169.5+ MB\n"
          ],
          "name": "stdout"
        }
      ]
    },
    {
      "cell_type": "code",
      "metadata": {
        "colab": {
          "base_uri": "https://localhost:8080/",
          "height": 284
        },
        "id": "NpgHSsnyNJXX",
        "outputId": "585a21ba-0e97-4740-ead8-17343081b7e3"
      },
      "source": [
        "# Ver datos faltantes, variable population con una gran cantidad de NAN\n",
        "sns.heatmap(data.isnull(), yticklabels=False, cbar = False, cmap = \"Blues\")"
      ],
      "execution_count": 192,
      "outputs": [
        {
          "output_type": "execute_result",
          "data": {
            "text/plain": [
              "<matplotlib.axes._subplots.AxesSubplot at 0x7fe97f9b9790>"
            ]
          },
          "metadata": {
            "tags": []
          },
          "execution_count": 192
        },
        {
          "output_type": "display_data",
          "data": {
            "image/png": "[encoded data removed]",
            "text/plain": [
              "<Figure size 432x288 with 1 Axes>"
            ]
          },
          "metadata": {
            "tags": [],
            "needs_background": "light"
          }
        }
      ]
    },
    {
      "cell_type": "code",
      "metadata": {
        "colab": {
          "base_uri": "https://localhost:8080/"
        },
        "id": "I14183a9VEXu",
        "outputId": "43449dd9-d969-4402-b82a-19b8375d2621"
      },
      "source": [
        "data.isna().sum()"
      ],
      "execution_count": 193,
      "outputs": [
        {
          "output_type": "execute_result",
          "data": {
            "text/plain": [
              "Country             0\n",
              "City                6\n",
              "AccentCity          0\n",
              "Region              8\n",
              "Population    3125978\n",
              "Latitude            0\n",
              "Longitude           0\n",
              "dtype: int64"
            ]
          },
          "metadata": {
            "tags": []
          },
          "execution_count": 193
        }
      ]
    },
    {
      "cell_type": "code",
      "metadata": {
        "colab": {
          "base_uri": "https://localhost:8080/",
          "height": 424
        },
        "id": "BKNLkWsaWTDb",
        "outputId": "7bb0605c-100a-4221-f11c-9f74edd6acc9"
      },
      "source": [
        "#Validar data faltante de Population\n",
        "data[data['Population'].isnull()]"
      ],
      "execution_count": 194,
      "outputs": [
        {
          "output_type": "execute_result",
          "data": {
            "text/html": [
              "<div>\n",
              "<style scoped>\n",
              "    .dataframe tbody tr th:only-of-type {\n",
              "        vertical-align: middle;\n",
              "    }\n",
              "\n",
              "    .dataframe tbody tr th {\n",
              "        vertical-align: top;\n",
              "    }\n",
              "\n",
              "    .dataframe thead th {\n",
              "        text-align: right;\n",
              "    }\n",
              "</style>\n",
              "<table border=\"1\" class=\"dataframe\">\n",
              "  <thead>\n",
              "    <tr style=\"text-align: right;\">\n",
              "      <th></th>\n",
              "      <th>Country</th>\n",
              "      <th>City</th>\n",
              "      <th>AccentCity</th>\n",
              "      <th>Region</th>\n",
              "      <th>Population</th>\n",
              "      <th>Latitude</th>\n",
              "      <th>Longitude</th>\n",
              "    </tr>\n",
              "  </thead>\n",
              "  <tbody>\n",
              "    <tr>\n",
              "      <th>0</th>\n",
              "      <td>ad</td>\n",
              "      <td>aixas</td>\n",
              "      <td>Aixàs</td>\n",
              "      <td>6</td>\n",
              "      <td>NaN</td>\n",
              "      <td>42.483333</td>\n",
              "      <td>1.466667</td>\n",
              "    </tr>\n",
              "    <tr>\n",
              "      <th>1</th>\n",
              "      <td>ad</td>\n",
              "      <td>aixirivali</td>\n",
              "      <td>Aixirivali</td>\n",
              "      <td>6</td>\n",
              "      <td>NaN</td>\n",
              "      <td>42.466667</td>\n",
              "      <td>1.500000</td>\n",
              "    </tr>\n",
              "    <tr>\n",
              "      <th>2</th>\n",
              "      <td>ad</td>\n",
              "      <td>aixirivall</td>\n",
              "      <td>Aixirivall</td>\n",
              "      <td>6</td>\n",
              "      <td>NaN</td>\n",
              "      <td>42.466667</td>\n",
              "      <td>1.500000</td>\n",
              "    </tr>\n",
              "    <tr>\n",
              "      <th>3</th>\n",
              "      <td>ad</td>\n",
              "      <td>aixirvall</td>\n",
              "      <td>Aixirvall</td>\n",
              "      <td>6</td>\n",
              "      <td>NaN</td>\n",
              "      <td>42.466667</td>\n",
              "      <td>1.500000</td>\n",
              "    </tr>\n",
              "    <tr>\n",
              "      <th>4</th>\n",
              "      <td>ad</td>\n",
              "      <td>aixovall</td>\n",
              "      <td>Aixovall</td>\n",
              "      <td>6</td>\n",
              "      <td>NaN</td>\n",
              "      <td>42.466667</td>\n",
              "      <td>1.483333</td>\n",
              "    </tr>\n",
              "    <tr>\n",
              "      <th>...</th>\n",
              "      <td>...</td>\n",
              "      <td>...</td>\n",
              "      <td>...</td>\n",
              "      <td>...</td>\n",
              "      <td>...</td>\n",
              "      <td>...</td>\n",
              "      <td>...</td>\n",
              "    </tr>\n",
              "    <tr>\n",
              "      <th>3173952</th>\n",
              "      <td>zw</td>\n",
              "      <td>zimbabwe</td>\n",
              "      <td>Zimbabwe</td>\n",
              "      <td>7</td>\n",
              "      <td>NaN</td>\n",
              "      <td>-20.266667</td>\n",
              "      <td>30.916667</td>\n",
              "    </tr>\n",
              "    <tr>\n",
              "      <th>3173953</th>\n",
              "      <td>zw</td>\n",
              "      <td>zimre park</td>\n",
              "      <td>Zimre Park</td>\n",
              "      <td>4</td>\n",
              "      <td>NaN</td>\n",
              "      <td>-17.866111</td>\n",
              "      <td>31.213611</td>\n",
              "    </tr>\n",
              "    <tr>\n",
              "      <th>3173954</th>\n",
              "      <td>zw</td>\n",
              "      <td>ziyakamanas</td>\n",
              "      <td>Ziyakamanas</td>\n",
              "      <td>0</td>\n",
              "      <td>NaN</td>\n",
              "      <td>-18.216667</td>\n",
              "      <td>27.950000</td>\n",
              "    </tr>\n",
              "    <tr>\n",
              "      <th>3173955</th>\n",
              "      <td>zw</td>\n",
              "      <td>zizalisari</td>\n",
              "      <td>Zizalisari</td>\n",
              "      <td>4</td>\n",
              "      <td>NaN</td>\n",
              "      <td>-17.758889</td>\n",
              "      <td>31.010556</td>\n",
              "    </tr>\n",
              "    <tr>\n",
              "      <th>3173956</th>\n",
              "      <td>zw</td>\n",
              "      <td>zuzumba</td>\n",
              "      <td>Zuzumba</td>\n",
              "      <td>6</td>\n",
              "      <td>NaN</td>\n",
              "      <td>-20.033333</td>\n",
              "      <td>27.933333</td>\n",
              "    </tr>\n",
              "  </tbody>\n",
              "</table>\n",
              "<p>3125978 rows × 7 columns</p>\n",
              "</div>"
            ],
            "text/plain": [
              "        Country         City   AccentCity  ... Population   Latitude  Longitude\n",
              "0            ad        aixas        Aixàs  ...        NaN  42.483333   1.466667\n",
              "1            ad   aixirivali   Aixirivali  ...        NaN  42.466667   1.500000\n",
              "2            ad   aixirivall   Aixirivall  ...        NaN  42.466667   1.500000\n",
              "3            ad    aixirvall    Aixirvall  ...        NaN  42.466667   1.500000\n",
              "4            ad     aixovall     Aixovall  ...        NaN  42.466667   1.483333\n",
              "...         ...          ...          ...  ...        ...        ...        ...\n",
              "3173952      zw     zimbabwe     Zimbabwe  ...        NaN -20.266667  30.916667\n",
              "3173953      zw   zimre park   Zimre Park  ...        NaN -17.866111  31.213611\n",
              "3173954      zw  ziyakamanas  Ziyakamanas  ...        NaN -18.216667  27.950000\n",
              "3173955      zw   zizalisari   Zizalisari  ...        NaN -17.758889  31.010556\n",
              "3173956      zw      zuzumba      Zuzumba  ...        NaN -20.033333  27.933333\n",
              "\n",
              "[3125978 rows x 7 columns]"
            ]
          },
          "metadata": {
            "tags": []
          },
          "execution_count": 194
        }
      ]
    },
    {
      "cell_type": "code",
      "metadata": {
        "colab": {
          "base_uri": "https://localhost:8080/",
          "height": 237
        },
        "id": "b1wcYO02WcHA",
        "outputId": "7c38caeb-f982-4acd-ff76-41b2bf645fdf"
      },
      "source": [
        "##Validar data faltante de Ciudad\n",
        "data[data['City'].isnull()]"
      ],
      "execution_count": 150,
      "outputs": [
        {
          "output_type": "execute_result",
          "data": {
            "text/html": [
              "<div>\n",
              "<style scoped>\n",
              "    .dataframe tbody tr th:only-of-type {\n",
              "        vertical-align: middle;\n",
              "    }\n",
              "\n",
              "    .dataframe tbody tr th {\n",
              "        vertical-align: top;\n",
              "    }\n",
              "\n",
              "    .dataframe thead th {\n",
              "        text-align: right;\n",
              "    }\n",
              "</style>\n",
              "<table border=\"1\" class=\"dataframe\">\n",
              "  <thead>\n",
              "    <tr style=\"text-align: right;\">\n",
              "      <th></th>\n",
              "      <th>Country</th>\n",
              "      <th>City</th>\n",
              "      <th>AccentCity</th>\n",
              "      <th>Region</th>\n",
              "      <th>Population</th>\n",
              "      <th>Latitude</th>\n",
              "      <th>Longitude</th>\n",
              "    </tr>\n",
              "  </thead>\n",
              "  <tbody>\n",
              "    <tr>\n",
              "      <th>98581</th>\n",
              "      <td>al</td>\n",
              "      <td>NaN</td>\n",
              "      <td>Nan</td>\n",
              "      <td>47</td>\n",
              "      <td>NaN</td>\n",
              "      <td>42.011667</td>\n",
              "      <td>20.416389</td>\n",
              "    </tr>\n",
              "    <tr>\n",
              "      <th>545196</th>\n",
              "      <td>cn</td>\n",
              "      <td>NaN</td>\n",
              "      <td>Nan</td>\n",
              "      <td>11</td>\n",
              "      <td>NaN</td>\n",
              "      <td>29.359551</td>\n",
              "      <td>112.402433</td>\n",
              "    </tr>\n",
              "    <tr>\n",
              "      <th>959881</th>\n",
              "      <td>fr</td>\n",
              "      <td>NaN</td>\n",
              "      <td>Nan</td>\n",
              "      <td>A1</td>\n",
              "      <td>NaN</td>\n",
              "      <td>47.374053</td>\n",
              "      <td>4.358566</td>\n",
              "    </tr>\n",
              "    <tr>\n",
              "      <th>1348414</th>\n",
              "      <td>in</td>\n",
              "      <td>NaN</td>\n",
              "      <td>Nan</td>\n",
              "      <td>12</td>\n",
              "      <td>NaN</td>\n",
              "      <td>32.994444</td>\n",
              "      <td>74.347222</td>\n",
              "    </tr>\n",
              "    <tr>\n",
              "      <th>2133528</th>\n",
              "      <td>ph</td>\n",
              "      <td>NaN</td>\n",
              "      <td>Nan</td>\n",
              "      <td>H2</td>\n",
              "      <td>NaN</td>\n",
              "      <td>13.912500</td>\n",
              "      <td>122.172600</td>\n",
              "    </tr>\n",
              "    <tr>\n",
              "      <th>2753400</th>\n",
              "      <td>th</td>\n",
              "      <td>NaN</td>\n",
              "      <td>Nan</td>\n",
              "      <td>4</td>\n",
              "      <td>24670.0</td>\n",
              "      <td>18.792917</td>\n",
              "      <td>100.729722</td>\n",
              "    </tr>\n",
              "  </tbody>\n",
              "</table>\n",
              "</div>"
            ],
            "text/plain": [
              "        Country City AccentCity Region  Population   Latitude   Longitude\n",
              "98581        al  NaN        Nan     47         NaN  42.011667   20.416389\n",
              "545196       cn  NaN        Nan     11         NaN  29.359551  112.402433\n",
              "959881       fr  NaN        Nan     A1         NaN  47.374053    4.358566\n",
              "1348414      in  NaN        Nan     12         NaN  32.994444   74.347222\n",
              "2133528      ph  NaN        Nan     H2         NaN  13.912500  122.172600\n",
              "2753400      th  NaN        Nan      4     24670.0  18.792917  100.729722"
            ]
          },
          "metadata": {
            "tags": []
          },
          "execution_count": 150
        }
      ]
    },
    {
      "cell_type": "code",
      "metadata": {
        "colab": {
          "base_uri": "https://localhost:8080/",
          "height": 300
        },
        "id": "Ac-iHWmLWn-k",
        "outputId": "17c07dc0-4a00-4a4a-bf72-e42c2265ed0b"
      },
      "source": [
        "#Validar data faltante de Region\n",
        "data[data['Region'].isnull()]"
      ],
      "execution_count": 151,
      "outputs": [
        {
          "output_type": "execute_result",
          "data": {
            "text/html": [
              "<div>\n",
              "<style scoped>\n",
              "    .dataframe tbody tr th:only-of-type {\n",
              "        vertical-align: middle;\n",
              "    }\n",
              "\n",
              "    .dataframe tbody tr th {\n",
              "        vertical-align: top;\n",
              "    }\n",
              "\n",
              "    .dataframe thead th {\n",
              "        text-align: right;\n",
              "    }\n",
              "</style>\n",
              "<table border=\"1\" class=\"dataframe\">\n",
              "  <thead>\n",
              "    <tr style=\"text-align: right;\">\n",
              "      <th></th>\n",
              "      <th>Country</th>\n",
              "      <th>City</th>\n",
              "      <th>AccentCity</th>\n",
              "      <th>Region</th>\n",
              "      <th>Population</th>\n",
              "      <th>Latitude</th>\n",
              "      <th>Longitude</th>\n",
              "    </tr>\n",
              "  </thead>\n",
              "  <tbody>\n",
              "    <tr>\n",
              "      <th>55166</th>\n",
              "      <td>af</td>\n",
              "      <td>nazand</td>\n",
              "      <td>Nazand</td>\n",
              "      <td>NaN</td>\n",
              "      <td>NaN</td>\n",
              "      <td>32.400278</td>\n",
              "      <td>69.254722</td>\n",
              "    </tr>\n",
              "    <tr>\n",
              "      <th>79529</th>\n",
              "      <td>af</td>\n",
              "      <td>soripai narai</td>\n",
              "      <td>Soripai Narai</td>\n",
              "      <td>NaN</td>\n",
              "      <td>NaN</td>\n",
              "      <td>33.044444</td>\n",
              "      <td>69.516667</td>\n",
              "    </tr>\n",
              "    <tr>\n",
              "      <th>1318396</th>\n",
              "      <td>il</td>\n",
              "      <td>bayt safafa</td>\n",
              "      <td>Bayt Safafa</td>\n",
              "      <td>NaN</td>\n",
              "      <td>NaN</td>\n",
              "      <td>31.742667</td>\n",
              "      <td>35.203036</td>\n",
              "    </tr>\n",
              "    <tr>\n",
              "      <th>1318491</th>\n",
              "      <td>il</td>\n",
              "      <td>beit safafa</td>\n",
              "      <td>Beit Safafa</td>\n",
              "      <td>NaN</td>\n",
              "      <td>NaN</td>\n",
              "      <td>31.742667</td>\n",
              "      <td>35.203036</td>\n",
              "    </tr>\n",
              "    <tr>\n",
              "      <th>2220223</th>\n",
              "      <td>pk</td>\n",
              "      <td>nazand</td>\n",
              "      <td>Nazand</td>\n",
              "      <td>NaN</td>\n",
              "      <td>NaN</td>\n",
              "      <td>32.400278</td>\n",
              "      <td>69.254722</td>\n",
              "    </tr>\n",
              "    <tr>\n",
              "      <th>2235464</th>\n",
              "      <td>pk</td>\n",
              "      <td>soripai narai</td>\n",
              "      <td>Soripai Narai</td>\n",
              "      <td>NaN</td>\n",
              "      <td>NaN</td>\n",
              "      <td>33.044444</td>\n",
              "      <td>69.516667</td>\n",
              "    </tr>\n",
              "    <tr>\n",
              "      <th>2588960</th>\n",
              "      <td>sd</td>\n",
              "      <td>kajra</td>\n",
              "      <td>Kajra</td>\n",
              "      <td>NaN</td>\n",
              "      <td>NaN</td>\n",
              "      <td>17.251944</td>\n",
              "      <td>34.488056</td>\n",
              "    </tr>\n",
              "    <tr>\n",
              "      <th>2651070</th>\n",
              "      <td>sn</td>\n",
              "      <td>taba treich</td>\n",
              "      <td>Taba Treich</td>\n",
              "      <td>NaN</td>\n",
              "      <td>NaN</td>\n",
              "      <td>16.158611</td>\n",
              "      <td>-16.382500</td>\n",
              "    </tr>\n",
              "  </tbody>\n",
              "</table>\n",
              "</div>"
            ],
            "text/plain": [
              "        Country           City     AccentCity  ... Population   Latitude  Longitude\n",
              "55166        af         nazand         Nazand  ...        NaN  32.400278  69.254722\n",
              "79529        af  soripai narai  Soripai Narai  ...        NaN  33.044444  69.516667\n",
              "1318396      il    bayt safafa    Bayt Safafa  ...        NaN  31.742667  35.203036\n",
              "1318491      il    beit safafa    Beit Safafa  ...        NaN  31.742667  35.203036\n",
              "2220223      pk         nazand         Nazand  ...        NaN  32.400278  69.254722\n",
              "2235464      pk  soripai narai  Soripai Narai  ...        NaN  33.044444  69.516667\n",
              "2588960      sd          kajra          Kajra  ...        NaN  17.251944  34.488056\n",
              "2651070      sn    taba treich    Taba Treich  ...        NaN  16.158611 -16.382500\n",
              "\n",
              "[8 rows x 7 columns]"
            ]
          },
          "metadata": {
            "tags": []
          },
          "execution_count": 151
        }
      ]
    },
    {
      "cell_type": "code",
      "metadata": {
        "id": "DX6cQhmnM1qR"
      },
      "source": [
        "#Genero otro dataset para conservar Population\n",
        "data2 = data.dropna()"
      ],
      "execution_count": 195,
      "outputs": []
    },
    {
      "cell_type": "code",
      "metadata": {
        "id": "qs826f38OYGP"
      },
      "source": [
        "#Al haber gran cantidad de NAN para la columna Population (Superior al 98%) no tiene sentido analizar. Con respecto a la columna AccentCity, es un simil a City por lo tanto igual se elimina\n",
        "#Las filas NAN de Region (8), City (6) se eliminan igualmente\n",
        "#Elimando columna Population y AccentCity\n",
        "data.drop([\"Population\",\"AccentCity\"], axis = 1, inplace = True)"
      ],
      "execution_count": 196,
      "outputs": []
    },
    {
      "cell_type": "code",
      "metadata": {
        "id": "s3ejRx8PXyr9"
      },
      "source": [
        "#Elimando filas Region y City con NAN, ya que no alterarian el análisis final\n",
        "data.drop(data[data.Region.isnull()].index, inplace = True)\n",
        "data.drop(data[data.City.isnull()].index, inplace = True)"
      ],
      "execution_count": 197,
      "outputs": []
    },
    {
      "cell_type": "code",
      "metadata": {
        "colab": {
          "base_uri": "https://localhost:8080/"
        },
        "id": "kSObOBUVZmNF",
        "outputId": "a38fe593-bef9-48d4-87d5-6ec1d0c71ed5"
      },
      "source": [
        "data.isna().sum()"
      ],
      "execution_count": 198,
      "outputs": [
        {
          "output_type": "execute_result",
          "data": {
            "text/plain": [
              "Country      0\n",
              "City         0\n",
              "Region       0\n",
              "Latitude     0\n",
              "Longitude    0\n",
              "dtype: int64"
            ]
          },
          "metadata": {
            "tags": []
          },
          "execution_count": 198
        }
      ]
    },
    {
      "cell_type": "code",
      "metadata": {
        "id": "rfdkNPA6_vwj",
        "outputId": "8befdfb2-8be2-4b10-baac-bcd25027097f",
        "colab": {
          "base_uri": "https://localhost:8080/"
        }
      },
      "source": [
        "#Top 20 de cantidad de registros por pais\n",
        "data.value_counts(data['Country']).sort_values(ascending=False).head(20)"
      ],
      "execution_count": 199,
      "outputs": [
        {
          "output_type": "execute_result",
          "data": {
            "text/plain": [
              "Country\n",
              "cn    238984\n",
              "ru    215938\n",
              "id    176546\n",
              "us    141989\n",
              "ir    123872\n",
              "pk     94245\n",
              "af     88747\n",
              "tr     72451\n",
              "de     70477\n",
              "fr     66361\n",
              "mx     62116\n",
              "th     56845\n",
              "pl     49666\n",
              "ph     48232\n",
              "kr     44601\n",
              "ng     43763\n",
              "br     43204\n",
              "ua     42775\n",
              "in     39812\n",
              "mm     33856\n",
              "dtype: int64"
            ]
          },
          "metadata": {
            "tags": []
          },
          "execution_count": 199
        }
      ]
    },
    {
      "cell_type": "code",
      "metadata": {
        "id": "eH9oj0XPE7wO",
        "outputId": "3ad578a7-6969-4608-91aa-49dbb24194e9",
        "colab": {
          "base_uri": "https://localhost:8080/"
        }
      },
      "source": [
        "#Top 20 de cantidad de registros por ciudad\n",
        "data.value_counts(data['City']).sort_values(ascending=False).head(20)"
      ],
      "execution_count": 200,
      "outputs": [
        {
          "output_type": "execute_result",
          "data": {
            "text/plain": [
              "City\n",
              "san jose         328\n",
              "san antonio      320\n",
              "santa rosa       296\n",
              "santa cruz       282\n",
              "san juan         255\n",
              "san miguel       254\n",
              "santa maria      253\n",
              "san pedro        248\n",
              "san francisco    235\n",
              "san isidro       234\n",
              "buena vista      234\n",
              "santa ana        210\n",
              "san rafael       207\n",
              "santa rita       195\n",
              "santa lucia      194\n",
              "buenavista       190\n",
              "san vicente      186\n",
              "san luis         181\n",
              "santa barbara    176\n",
              "la esperanza     168\n",
              "dtype: int64"
            ]
          },
          "metadata": {
            "tags": []
          },
          "execution_count": 200
        }
      ]
    },
    {
      "cell_type": "code",
      "metadata": {
        "id": "iRdLMn6U-3Cp",
        "outputId": "af6a2e42-ed69-4133-a31a-318eb912207f",
        "colab": {
          "base_uri": "https://localhost:8080/",
          "height": 283
        }
      },
      "source": [
        "#Distribución del dataset por paises. Top 5\n",
        "plot = data['Country'].value_counts().head(5).plot(kind='bar',\n",
        "                                            title='Distribución dataset por cantidad de paises')"
      ],
      "execution_count": 238,
      "outputs": [
        {
          "output_type": "display_data",
          "data": {
            "image/png": "[encoded data removed]",
            "text/plain": [
              "<Figure size 432x288 with 1 Axes>"
            ]
          },
          "metadata": {
            "tags": [],
            "needs_background": "light"
          }
        }
      ]
    },
    {
      "cell_type": "code",
      "metadata": {
        "id": "qGbxyyDnEuiM",
        "outputId": "4ce34d7f-b731-43ef-8bc4-0f3f059e125a",
        "colab": {
          "base_uri": "https://localhost:8080/",
          "height": 341
        }
      },
      "source": [
        "#Distribución del dataset por ciudades. Top 20\n",
        "plot = data['City'].value_counts().head(20).plot(kind='bar',\n",
        "                                            title='Distribución dataset por cantidad de ciudades')"
      ],
      "execution_count": 239,
      "outputs": [
        {
          "output_type": "display_data",
          "data": {
            "image/png": "[encoded data removed]",
            "text/plain": [
              "<Figure size 432x288 with 1 Axes>"
            ]
          },
          "metadata": {
            "tags": [],
            "needs_background": "light"
          }
        }
      ]
    },
    {
      "cell_type": "code",
      "metadata": {
        "id": "LiYZ06HQL__X"
      },
      "source": [
        "#Filtro top 5 de paises con mayor registro y luego genero un dataset con el top 5 de paises para geolocalizar\n",
        "dataset_cn = data[data['Country'] == 'cn']"
      ],
      "execution_count": 222,
      "outputs": []
    },
    {
      "cell_type": "code",
      "metadata": {
        "id": "8i77SnWURoGx"
      },
      "source": [
        "dataset_ru = data[data['Country'] == 'ru']"
      ],
      "execution_count": 223,
      "outputs": []
    },
    {
      "cell_type": "code",
      "metadata": {
        "id": "8wLprUviRtwZ"
      },
      "source": [
        "dataset_id = data[data['Country'] == 'id']"
      ],
      "execution_count": 224,
      "outputs": []
    },
    {
      "cell_type": "code",
      "metadata": {
        "id": "OhGQ38OzR009"
      },
      "source": [
        "dataset_us = data[data['Country'] == 'us']"
      ],
      "execution_count": 225,
      "outputs": []
    },
    {
      "cell_type": "code",
      "metadata": {
        "id": "EL-LoeA9R4QU"
      },
      "source": [
        "dataset_ir = data[data['Country'] == 'ir']"
      ],
      "execution_count": 226,
      "outputs": []
    },
    {
      "cell_type": "code",
      "metadata": {
        "id": "ZzUkd8T18cwT"
      },
      "source": [
        "dataset_cn.to_csv (r'/content/drive/MyDrive/BCI/dataset_cn.csv', index=None)"
      ],
      "execution_count": 227,
      "outputs": []
    },
    {
      "cell_type": "code",
      "metadata": {
        "id": "jzMAQzvPR_XI"
      },
      "source": [
        "dataset_ru.to_csv (r'/content/drive/MyDrive/BCI/dataset_ru.csv', index=None)"
      ],
      "execution_count": 228,
      "outputs": []
    },
    {
      "cell_type": "code",
      "metadata": {
        "id": "W7r4zED7R_fb"
      },
      "source": [
        "dataset_id.to_csv (r'/content/drive/MyDrive/BCI/dataset_id.csv', index=None)"
      ],
      "execution_count": 229,
      "outputs": []
    },
    {
      "cell_type": "code",
      "metadata": {
        "id": "Jsd9Hp7IR_mw"
      },
      "source": [
        "dataset_us.to_csv (r'/content/drive/MyDrive/BCI/dataset_us.csv', index=None)"
      ],
      "execution_count": 230,
      "outputs": []
    },
    {
      "cell_type": "code",
      "metadata": {
        "id": "wrgLGV10R_ti"
      },
      "source": [
        "dataset_ir.to_csv (r'/content/drive/MyDrive/BCI/dataset_ir.csv', index=None)"
      ],
      "execution_count": 231,
      "outputs": []
    },
    {
      "cell_type": "code",
      "metadata": {
        "id": "QpPv4lV-wr2y",
        "outputId": "877019fa-a9c4-40fa-85f4-e9f310f8d7b2",
        "colab": {
          "base_uri": "https://localhost:8080/",
          "height": 424
        }
      },
      "source": [
        "data2"
      ],
      "execution_count": 217,
      "outputs": [
        {
          "output_type": "execute_result",
          "data": {
            "text/html": [
              "<div>\n",
              "<style scoped>\n",
              "    .dataframe tbody tr th:only-of-type {\n",
              "        vertical-align: middle;\n",
              "    }\n",
              "\n",
              "    .dataframe tbody tr th {\n",
              "        vertical-align: top;\n",
              "    }\n",
              "\n",
              "    .dataframe thead th {\n",
              "        text-align: right;\n",
              "    }\n",
              "</style>\n",
              "<table border=\"1\" class=\"dataframe\">\n",
              "  <thead>\n",
              "    <tr style=\"text-align: right;\">\n",
              "      <th></th>\n",
              "      <th>Country</th>\n",
              "      <th>City</th>\n",
              "      <th>AccentCity</th>\n",
              "      <th>Region</th>\n",
              "      <th>Population</th>\n",
              "      <th>Latitude</th>\n",
              "      <th>Longitude</th>\n",
              "    </tr>\n",
              "  </thead>\n",
              "  <tbody>\n",
              "    <tr>\n",
              "      <th>6</th>\n",
              "      <td>ad</td>\n",
              "      <td>andorra la vella</td>\n",
              "      <td>Andorra la Vella</td>\n",
              "      <td>7</td>\n",
              "      <td>20430.0</td>\n",
              "      <td>42.500000</td>\n",
              "      <td>1.516667</td>\n",
              "    </tr>\n",
              "    <tr>\n",
              "      <th>20</th>\n",
              "      <td>ad</td>\n",
              "      <td>canillo</td>\n",
              "      <td>Canillo</td>\n",
              "      <td>2</td>\n",
              "      <td>3292.0</td>\n",
              "      <td>42.566667</td>\n",
              "      <td>1.600000</td>\n",
              "    </tr>\n",
              "    <tr>\n",
              "      <th>32</th>\n",
              "      <td>ad</td>\n",
              "      <td>encamp</td>\n",
              "      <td>Encamp</td>\n",
              "      <td>3</td>\n",
              "      <td>11224.0</td>\n",
              "      <td>42.533333</td>\n",
              "      <td>1.583333</td>\n",
              "    </tr>\n",
              "    <tr>\n",
              "      <th>49</th>\n",
              "      <td>ad</td>\n",
              "      <td>la massana</td>\n",
              "      <td>La Massana</td>\n",
              "      <td>4</td>\n",
              "      <td>7211.0</td>\n",
              "      <td>42.550000</td>\n",
              "      <td>1.516667</td>\n",
              "    </tr>\n",
              "    <tr>\n",
              "      <th>53</th>\n",
              "      <td>ad</td>\n",
              "      <td>les escaldes</td>\n",
              "      <td>Les Escaldes</td>\n",
              "      <td>8</td>\n",
              "      <td>15854.0</td>\n",
              "      <td>42.500000</td>\n",
              "      <td>1.533333</td>\n",
              "    </tr>\n",
              "    <tr>\n",
              "      <th>...</th>\n",
              "      <td>...</td>\n",
              "      <td>...</td>\n",
              "      <td>...</td>\n",
              "      <td>...</td>\n",
              "      <td>...</td>\n",
              "      <td>...</td>\n",
              "      <td>...</td>\n",
              "    </tr>\n",
              "    <tr>\n",
              "      <th>3173646</th>\n",
              "      <td>zw</td>\n",
              "      <td>redcliffe</td>\n",
              "      <td>Redcliffe</td>\n",
              "      <td>6</td>\n",
              "      <td>38231.0</td>\n",
              "      <td>-19.033333</td>\n",
              "      <td>29.783333</td>\n",
              "    </tr>\n",
              "    <tr>\n",
              "      <th>3173676</th>\n",
              "      <td>zw</td>\n",
              "      <td>rusape</td>\n",
              "      <td>Rusape</td>\n",
              "      <td>4</td>\n",
              "      <td>23761.0</td>\n",
              "      <td>-18.533333</td>\n",
              "      <td>32.116667</td>\n",
              "    </tr>\n",
              "    <tr>\n",
              "      <th>3173737</th>\n",
              "      <td>zw</td>\n",
              "      <td>shurugwi</td>\n",
              "      <td>Shurugwi</td>\n",
              "      <td>7</td>\n",
              "      <td>17107.0</td>\n",
              "      <td>-19.666667</td>\n",
              "      <td>30.000000</td>\n",
              "    </tr>\n",
              "    <tr>\n",
              "      <th>3173892</th>\n",
              "      <td>zw</td>\n",
              "      <td>victoria falls</td>\n",
              "      <td>Victoria Falls</td>\n",
              "      <td>0</td>\n",
              "      <td>36702.0</td>\n",
              "      <td>-17.933333</td>\n",
              "      <td>25.833333</td>\n",
              "    </tr>\n",
              "    <tr>\n",
              "      <th>3173957</th>\n",
              "      <td>zw</td>\n",
              "      <td>zvishavane</td>\n",
              "      <td>Zvishavane</td>\n",
              "      <td>7</td>\n",
              "      <td>79876.0</td>\n",
              "      <td>-20.333333</td>\n",
              "      <td>30.033333</td>\n",
              "    </tr>\n",
              "  </tbody>\n",
              "</table>\n",
              "<p>47979 rows × 7 columns</p>\n",
              "</div>"
            ],
            "text/plain": [
              "        Country              City  ...   Latitude  Longitude\n",
              "6            ad  andorra la vella  ...  42.500000   1.516667\n",
              "20           ad           canillo  ...  42.566667   1.600000\n",
              "32           ad            encamp  ...  42.533333   1.583333\n",
              "49           ad        la massana  ...  42.550000   1.516667\n",
              "53           ad      les escaldes  ...  42.500000   1.533333\n",
              "...         ...               ...  ...        ...        ...\n",
              "3173646      zw         redcliffe  ... -19.033333  29.783333\n",
              "3173676      zw            rusape  ... -18.533333  32.116667\n",
              "3173737      zw          shurugwi  ... -19.666667  30.000000\n",
              "3173892      zw    victoria falls  ... -17.933333  25.833333\n",
              "3173957      zw        zvishavane  ... -20.333333  30.033333\n",
              "\n",
              "[47979 rows x 7 columns]"
            ]
          },
          "metadata": {
            "tags": []
          },
          "execution_count": 217
        }
      ]
    },
    {
      "cell_type": "code",
      "metadata": {
        "id": "GzAJtH7PxSln"
      },
      "source": [
        "#Guardo dataset con registros de Population sin valores nulos como referencia\n",
        "data2.to_csv (r'/content/drive/MyDrive/BCI/datasetPopulation.csv', index=None)"
      ],
      "execution_count": 219,
      "outputs": []
    },
    {
      "cell_type": "code",
      "metadata": {
        "id": "fgduLxLjXgKm"
      },
      "source": [
        "#Se suber los archivos generados en servicio de mymaps de Google para referenciar puntos en mapa. Se distribuyen en distintos archivos por el peso de los archivos, lo cuál el servicio\n",
        "#de google no soporta un peso mayor a 10mb."
      ],
      "execution_count": 240,
      "outputs": []
    }
  ]
}